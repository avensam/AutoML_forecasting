{
  "cells": [
    {
      "cell_type": "markdown",
      "source": [
        "# Automated ML\n",
        "\n",
        "TODO: Import Dependencies. In the cell below, import all the dependencies that you will need to complete the project."
      ],
      "metadata": {}
    },
    {
      "cell_type": "code",
      "source": [
        "import numpy as np\r\n",
        "import math\r\n",
        "import matplotlib.pyplot as plt\r\n",
        "from scipy.stats import norm\r\n",
        "#!pip install pandas_datareader\r\n",
        "from pandas_datareader import data\r\n",
        "from azureml.core import Workspace, Dataset, Experiment, Run\r\n",
        "from azureml.train.automl import AutoMLConfig\r\n",
        "from azureml.widgets import RunDetails\r\n",
        "from azureml.core.compute import AmlCompute, ComputeTarget\r\n",
        "from azureml.core.compute_target import ComputeTargetException\r\n",
        "from azureml.train.automl.run import AutoMLRun\r\n",
        "from azureml.core.model import Model, InferenceConfig\r\n",
        "from azureml.core.environment import Environment\r\n",
        "from azureml.core.webservice import AciWebservice\r\n",
        "\r\n",
        "# Webservice\r\n",
        "import urllib.request\r\n",
        "import json\r\n",
        "import os\r\n",
        "import ssl\r\n",
        "\r\n",
        "# Data Manipulation\r\n",
        "import seaborn as sns\r\n",
        "import pandas as pd\r\n",
        "import matplotlib.pyplot as plt"
      ],
      "outputs": [],
      "execution_count": 5,
      "metadata": {
        "gather": {
          "logged": 1623607249146
        },
        "jupyter": {
          "outputs_hidden": false,
          "source_hidden": false
        },
        "nteract": {
          "transient": {
            "deleting": false
          }
        }
      }
    },
    {
      "cell_type": "markdown",
      "source": [
        "## Dataset\n",
        "\n",
        "### Overview\n",
        "TODO: In this markdown cell, give an overview of the dataset you are using. Also mention the task you will be performing.\n",
        "\n",
        "\n",
        "TODO: Get data. In the cell below, write code to access the data you will be using in this project. Remember that the dataset needs to be external."
      ],
      "metadata": {}
    },
    {
      "cell_type": "code",
      "source": [
        "ws = Workspace.from_config()\n",
        "\n",
        "# choose a name for experiment\n",
        "experiment_name = 'MSFT-stock'\n",
        "\n",
        "experiment=Experiment(ws, experiment_name)"
      ],
      "outputs": [],
      "execution_count": 4,
      "metadata": {
        "gather": {
          "logged": 1623606586105
        },
        "jupyter": {
          "outputs_hidden": false,
          "source_hidden": false
        },
        "nteract": {
          "transient": {
            "deleting": false
          }
        }
      }
    },
    {
      "cell_type": "markdown",
      "source": [
        "# Data prepration"
      ],
      "metadata": {
        "nteract": {
          "transient": {
            "deleting": false
          }
        }
      }
    },
    {
      "cell_type": "code",
      "source": [
        "#download MSFT price data into DataFrame\r\n",
        "MSFT = data.DataReader('MSFT', 'yahoo',start='1/1/2020')\r\n",
        "\r\n",
        "#calculate the compound annual growth rate (CAGR) which \r\n",
        "#will give us our mean return input (mu) \r\n",
        "days = (MSFT.index[-1] - MSFT.index[0]).days\r\n",
        "cagr = ((((MSFT['Adj Close'][-1]) / MSFT['Adj Close'][1])) ** (365.0/days)) - 1\r\n",
        "print ('CAGR =',str(round(cagr,4)*100)+\"%\")\r\n",
        "mu = cagr\r\n",
        "\r\n",
        "#create a series of percentage returns and calculate \r\n",
        "#the annual volatility of returns\r\n",
        "MSFT['Returns'] = MSFT['Adj Close'].pct_change()\r\n",
        "vol = MSFT['Returns'].std()*np.sqrt(252) # #Number of trading days\r\n",
        "print (\"Annual Volatility =\",str(round(vol,4)*100)+\"%\")\r\n",
        "\r\n",
        " \r\n",
        "MSFT.tail()"
      ],
      "outputs": [
        {
          "output_type": "stream",
          "name": "stdout",
          "text": [
            "CAGR = 41.589999999999996%\n",
            "Annual Volatility = 38.76%\n"
          ]
        },
        {
          "output_type": "execute_result",
          "execution_count": 58,
          "data": {
            "text/plain": "                  High         Low        Open       Close      Volume  \\\nDate                                                                     \n2021-06-07  254.089996  249.809998  249.979996  253.809998  23079200.0   \n2021-06-08  256.010010  252.509995  255.160004  252.570007  22455000.0   \n2021-06-09  255.529999  253.210007  253.809998  253.589996  17937600.0   \n2021-06-10  257.459991  253.669998  254.289993  257.239990  24563600.0   \n2021-06-11  258.489990  256.609985  257.989990  257.890015  18995100.0   \n\n             Adj Close   Returns  \nDate                              \n2021-06-07  253.809998  0.012042  \n2021-06-08  252.570007 -0.004886  \n2021-06-09  253.589996  0.004038  \n2021-06-10  257.239990  0.014393  \n2021-06-11  257.890015  0.002527  ",
            "text/html": "<div>\n<style scoped>\n    .dataframe tbody tr th:only-of-type {\n        vertical-align: middle;\n    }\n\n    .dataframe tbody tr th {\n        vertical-align: top;\n    }\n\n    .dataframe thead th {\n        text-align: right;\n    }\n</style>\n<table border=\"1\" class=\"dataframe\">\n  <thead>\n    <tr style=\"text-align: right;\">\n      <th></th>\n      <th>High</th>\n      <th>Low</th>\n      <th>Open</th>\n      <th>Close</th>\n      <th>Volume</th>\n      <th>Adj Close</th>\n      <th>Returns</th>\n    </tr>\n    <tr>\n      <th>Date</th>\n      <th></th>\n      <th></th>\n      <th></th>\n      <th></th>\n      <th></th>\n      <th></th>\n      <th></th>\n    </tr>\n  </thead>\n  <tbody>\n    <tr>\n      <th>2021-06-07</th>\n      <td>254.089996</td>\n      <td>249.809998</td>\n      <td>249.979996</td>\n      <td>253.809998</td>\n      <td>23079200.0</td>\n      <td>253.809998</td>\n      <td>0.012042</td>\n    </tr>\n    <tr>\n      <th>2021-06-08</th>\n      <td>256.010010</td>\n      <td>252.509995</td>\n      <td>255.160004</td>\n      <td>252.570007</td>\n      <td>22455000.0</td>\n      <td>252.570007</td>\n      <td>-0.004886</td>\n    </tr>\n    <tr>\n      <th>2021-06-09</th>\n      <td>255.529999</td>\n      <td>253.210007</td>\n      <td>253.809998</td>\n      <td>253.589996</td>\n      <td>17937600.0</td>\n      <td>253.589996</td>\n      <td>0.004038</td>\n    </tr>\n    <tr>\n      <th>2021-06-10</th>\n      <td>257.459991</td>\n      <td>253.669998</td>\n      <td>254.289993</td>\n      <td>257.239990</td>\n      <td>24563600.0</td>\n      <td>257.239990</td>\n      <td>0.014393</td>\n    </tr>\n    <tr>\n      <th>2021-06-11</th>\n      <td>258.489990</td>\n      <td>256.609985</td>\n      <td>257.989990</td>\n      <td>257.890015</td>\n      <td>18995100.0</td>\n      <td>257.890015</td>\n      <td>0.002527</td>\n    </tr>\n  </tbody>\n</table>\n</div>"
          },
          "metadata": {}
        }
      ],
      "execution_count": 58,
      "metadata": {
        "collapsed": true,
        "jupyter": {
          "source_hidden": false,
          "outputs_hidden": false
        },
        "nteract": {
          "transient": {
            "deleting": false
          }
        },
        "gather": {
          "logged": 1623608397463
        }
      }
    },
    {
      "cell_type": "code",
      "source": [
        "S = MSFT['Adj Close'][-1] #starting stock price (i.e. last available real stock price)\r\n",
        "T = 252 #Number of trading days\r\n",
        "mu = 0.2309 #Return\r\n",
        "vol = 0.4259 #Volatility\r\n",
        "#create list of daily returns using random normal distribution\r\n",
        "daily_returns=np.random.normal((mu/T),vol/math.sqrt(T),T)+1\r\n",
        " \r\n",
        "#set starting price and create price series generated by above random daily returns\r\n",
        "price_list = [S]\r\n",
        "for x in daily_returns:\r\n",
        "    price_list.append(price_list[-1]*x)\r\n",
        "#Generate Plots - price series and histogram of daily returns\r\n",
        "plt.plot(price_list)\r\n",
        "plt.show()\r\n",
        "plt.hist(daily_returns-1, 100) #Note that we run the line plot and histogram separately, not simultaneously.\r\n",
        "plt.show()"
      ],
      "outputs": [
        {
          "output_type": "display_data",
          "data": {
            "text/plain": "<Figure size 432x288 with 1 Axes>",
            "image/png": "[encoded data removed]"
          },
          "metadata": {
            "needs_background": "light"
          }
        },
        {
          "output_type": "display_data",
          "data": {
            "text/plain": "<Figure size 432x288 with 1 Axes>",
            "image/png": "[encoded data removed]"
          },
          "metadata": {
            "needs_background": "light"
          }
        }
      ],
      "execution_count": 47,
      "metadata": {
        "collapsed": true,
        "jupyter": {
          "source_hidden": false,
          "outputs_hidden": false
        },
        "nteract": {
          "transient": {
            "deleting": false
          }
        },
        "gather": {
          "logged": 1623608191841
        }
      }
    },
    {
      "cell_type": "code",
      "source": [
        "from matplotlib import pyplot as plt  \r\n",
        "from matplotlib.pyplot import figure\r\n",
        "\r\n",
        "\r\n",
        "MSFT = MSFT.reset_index()\r\n",
        "X = MSFT[['Date','Adj Close']] \r\n",
        "fig = plt.figure( )\r\n",
        "figure(figsize=(15,5), dpi=80)  \r\n",
        "plt.plot(X['Date'], X['Adj Close'])\r\n",
        "plt.xlabel('Date', fontsize=18)\r\n",
        "plt.ylabel(\"Adj Close\", fontsize=16)\r\n",
        " "
      ],
      "outputs": [
        {
          "output_type": "execute_result",
          "execution_count": 59,
          "data": {
            "text/plain": "Text(0, 0.5, 'Adj Close')"
          },
          "metadata": {}
        },
        {
          "output_type": "display_data",
          "data": {
            "text/plain": "<Figure size 432x288 with 0 Axes>"
          },
          "metadata": {}
        },
        {
          "output_type": "display_data",
          "data": {
            "text/plain": "<Figure size 1200x400 with 1 Axes>",
            "image/png": "[encoded data removed]"
          },
          "metadata": {
            "needs_background": "light"
          }
        }
      ],
      "execution_count": 59,
      "metadata": {
        "collapsed": true,
        "jupyter": {
          "source_hidden": false,
          "outputs_hidden": false
        },
        "nteract": {
          "transient": {
            "deleting": false
          }
        },
        "gather": {
          "logged": 1623608400081
        }
      }
    },
    {
      "cell_type": "code",
      "source": [
        "X=X.reset_index(drop =True)\r\n",
        "# Split the dataframe \r\n",
        "split_date ='2020-02-01'\r\n",
        "X_precovid = X.loc[X['Date'] <= split_date]\r\n",
        "X_covid = X.loc[X['Date'] > split_date]\r\n",
        "X_precovid.set_index('Date', inplace=True)\r\n",
        "X_covid.set_index('Date', inplace=True)\r\n",
        "\r\n",
        "X_covid"
      ],
      "outputs": [
        {
          "output_type": "execute_result",
          "execution_count": 60,
          "data": {
            "text/plain": "             Adj Close\nDate                  \n2020-02-03  171.758942\n2020-02-04  177.412659\n2020-02-05  177.195969\n2020-02-06  180.869888\n2020-02-07  181.126007\n...                ...\n2021-06-07  253.809998\n2021-06-08  252.570007\n2021-06-09  253.589996\n2021-06-10  257.239990\n2021-06-11  257.890015\n\n[343 rows x 1 columns]",
            "text/html": "<div>\n<style scoped>\n    .dataframe tbody tr th:only-of-type {\n        vertical-align: middle;\n    }\n\n    .dataframe tbody tr th {\n        vertical-align: top;\n    }\n\n    .dataframe thead th {\n        text-align: right;\n    }\n</style>\n<table border=\"1\" class=\"dataframe\">\n  <thead>\n    <tr style=\"text-align: right;\">\n      <th></th>\n      <th>Adj Close</th>\n    </tr>\n    <tr>\n      <th>Date</th>\n      <th></th>\n    </tr>\n  </thead>\n  <tbody>\n    <tr>\n      <th>2020-02-03</th>\n      <td>171.758942</td>\n    </tr>\n    <tr>\n      <th>2020-02-04</th>\n      <td>177.412659</td>\n    </tr>\n    <tr>\n      <th>2020-02-05</th>\n      <td>177.195969</td>\n    </tr>\n    <tr>\n      <th>2020-02-06</th>\n      <td>180.869888</td>\n    </tr>\n    <tr>\n      <th>2020-02-07</th>\n      <td>181.126007</td>\n    </tr>\n    <tr>\n      <th>...</th>\n      <td>...</td>\n    </tr>\n    <tr>\n      <th>2021-06-07</th>\n      <td>253.809998</td>\n    </tr>\n    <tr>\n      <th>2021-06-08</th>\n      <td>252.570007</td>\n    </tr>\n    <tr>\n      <th>2021-06-09</th>\n      <td>253.589996</td>\n    </tr>\n    <tr>\n      <th>2021-06-10</th>\n      <td>257.239990</td>\n    </tr>\n    <tr>\n      <th>2021-06-11</th>\n      <td>257.890015</td>\n    </tr>\n  </tbody>\n</table>\n<p>343 rows × 1 columns</p>\n</div>"
          },
          "metadata": {}
        }
      ],
      "execution_count": 60,
      "metadata": {
        "collapsed": true,
        "jupyter": {
          "source_hidden": false,
          "outputs_hidden": false
        },
        "nteract": {
          "transient": {
            "deleting": false
          }
        },
        "gather": {
          "logged": 1623608402195
        }
      }
    },
    {
      "cell_type": "code",
      "source": [
        "# Now that we have 2 dataset, we can register them into Azure ML\r\n",
        "\r\n",
        "UPDATE_DATASET = True\r\n",
        "\r\n",
        "if UPDATE_DATASET:    \r\n",
        "\r\n",
        "    path = 'Data'\r\n",
        "\r\n",
        "    try:\r\n",
        "        os.mkdir(path,)\r\n",
        "    except OSError as err:\r\n",
        "        print(err)\r\n",
        "    else:\r\n",
        "        print('Directory %s succesfully created' %path)\r\n",
        "\r\n",
        "\r\n",
        "    local_path = './Data/MSFT_prepared.csv'\r\n",
        "    local_path_covid = './Data/MSFT_covid.csv'\r\n",
        "\r\n",
        "    # Save the two dataset to csv\r\n",
        "    X_precovid.to_csv(local_path)\r\n",
        "    X_covid.to_csv(local_path_covid)\r\n",
        "\r\n",
        "\r\n",
        "    # upload the local file to a datastore on the cloud\r\n",
        "\r\n",
        "    # get the datastore to upload prepared data\r\n",
        "    datastore = ws.get_default_datastore()\r\n",
        "\r\n",
        "    # upload the local file from src_dir to the target_path in datastore\r\n",
        "    datastore.upload(src_dir='Data', target_path='Data', overwrite=True, show_progress=True)\r\n",
        "\r\n",
        "    # create a dataset referencing the cloud location\r\n",
        "    dataset_prepared = Dataset.Tabular.from_delimited_files(path = [(datastore, (local_path))])\r\n",
        "    dataset_covid = Dataset.Tabular.from_delimited_files(path = [(datastore, (local_path_covid))])\r\n",
        "\r\n",
        "\r\n",
        "    # Register the Dataset\r\n",
        "\r\n",
        "    dataset_prepared = dataset_prepared.register(workspace=ws,\r\n",
        "                                 name='MSFT-stock cleaned',\r\n",
        "                                 description='MSFT-stock pre-covid cleaned',\r\n",
        "                                 create_new_version=True)\r\n",
        "\r\n",
        "    dataset_covid = dataset_covid.register(workspace=ws,\r\n",
        "                                 name='MSFT-stock post cleaned',\r\n",
        "                                 description='MSFT-stock post-covid cleaned',\r\n",
        "                                 create_new_version=True)\r\n",
        "\r\n",
        "if not UPDATE_DATASET:\r\n",
        "    dataset_prepared = Dataset.get_by_name(ws, name='MSFT-stock cleaned')\r\n",
        "    dataset_covid = Dataset.get_by_name(ws, name='MSFT-stock post cleaned')\r\n",
        "\r\n",
        "df_prepared = dataset_prepared.to_pandas_dataframe()\r\n",
        "df_prepared = df_prepared.set_index('Date', inplace=False)\r\n",
        "    \r\n",
        "df_covid = dataset_covid.to_pandas_dataframe()\r\n",
        "df_covid = df_covid.set_index('Date', inplace=False)\r\n",
        "\r\n",
        "\r\n",
        " "
      ],
      "outputs": [
        {
          "output_type": "stream",
          "name": "stdout",
          "text": [
            "[Errno 17] File exists: 'Data'\n",
            "Uploading an estimated of 2 files\n",
            "Uploading Data/MSFT_covid.csv\n",
            "Uploaded Data/MSFT_covid.csv, 1 files out of an estimated total of 2\n",
            "Uploading Data/MSFT_prepared.csv\n",
            "Uploaded Data/MSFT_prepared.csv, 2 files out of an estimated total of 2\n",
            "Uploaded 2 files\n"
          ]
        }
      ],
      "execution_count": 79,
      "metadata": {
        "collapsed": true,
        "jupyter": {
          "source_hidden": false,
          "outputs_hidden": false
        },
        "nteract": {
          "transient": {
            "deleting": false
          }
        },
        "gather": {
          "logged": 1623610202504
        }
      }
    },
    {
      "cell_type": "code",
      "source": [
        "\r\n",
        "# Check the dataset\r\n",
        "dataset_prepared"
      ],
      "outputs": [
        {
          "output_type": "execute_result",
          "execution_count": 80,
          "data": {
            "text/plain": "{\n  \"source\": [\n    \"('workspaceblobstore', './Data/MSFT_prepared.csv')\"\n  ],\n  \"definition\": [\n    \"GetDatastoreFiles\",\n    \"ParseDelimited\",\n    \"DropColumns\",\n    \"SetColumnTypes\"\n  ],\n  \"registration\": {\n    \"id\": \"87512de4-eef7-4eda-8a0b-2a0e943a971b\",\n    \"name\": \"MSFT-stock cleaned\",\n    \"version\": 2,\n    \"description\": \"MSFT-stock pre-covid cleaned\",\n    \"workspace\": \"Workspace.create(name='quick-starts-ws-147101', subscription_id='2c48c51c-bd47-40d4-abbe-fb8eabd19c8c', resource_group='aml-quickstarts-147101')\"\n  }\n}"
          },
          "metadata": {}
        }
      ],
      "execution_count": 80,
      "metadata": {
        "collapsed": true,
        "jupyter": {
          "source_hidden": false,
          "outputs_hidden": false
        },
        "nteract": {
          "transient": {
            "deleting": false
          }
        },
        "gather": {
          "logged": 1623610206633
        }
      }
    },
    {
      "cell_type": "code",
      "source": [
        "\r\n",
        "# Check the DataFrame\r\n",
        "df_prepared.tail()"
      ],
      "outputs": [
        {
          "output_type": "execute_result",
          "execution_count": 81,
          "data": {
            "text/plain": "             Adj Close\nDate                  \n2020-01-27  159.840805\n2020-01-28  162.973038\n2020-01-29  165.514221\n2020-01-30  170.182999\n2020-01-31  167.671310",
            "text/html": "<div>\n<style scoped>\n    .dataframe tbody tr th:only-of-type {\n        vertical-align: middle;\n    }\n\n    .dataframe tbody tr th {\n        vertical-align: top;\n    }\n\n    .dataframe thead th {\n        text-align: right;\n    }\n</style>\n<table border=\"1\" class=\"dataframe\">\n  <thead>\n    <tr style=\"text-align: right;\">\n      <th></th>\n      <th>Adj Close</th>\n    </tr>\n    <tr>\n      <th>Date</th>\n      <th></th>\n    </tr>\n  </thead>\n  <tbody>\n    <tr>\n      <th>2020-01-27</th>\n      <td>159.840805</td>\n    </tr>\n    <tr>\n      <th>2020-01-28</th>\n      <td>162.973038</td>\n    </tr>\n    <tr>\n      <th>2020-01-29</th>\n      <td>165.514221</td>\n    </tr>\n    <tr>\n      <th>2020-01-30</th>\n      <td>170.182999</td>\n    </tr>\n    <tr>\n      <th>2020-01-31</th>\n      <td>167.671310</td>\n    </tr>\n  </tbody>\n</table>\n</div>"
          },
          "metadata": {}
        }
      ],
      "execution_count": 81,
      "metadata": {
        "collapsed": true,
        "jupyter": {
          "source_hidden": false,
          "outputs_hidden": false
        },
        "nteract": {
          "transient": {
            "deleting": false
          }
        },
        "gather": {
          "logged": 1623610210314
        }
      }
    },
    {
      "cell_type": "markdown",
      "source": [],
      "metadata": {
        "nteract": {
          "transient": {
            "deleting": false
          }
        }
      }
    },
    {
      "cell_type": "code",
      "source": [
        "# Choose a name for your CPU cluster\r\n",
        "amlcompute_cluster_name = \"AMLTraining\"\r\n",
        "\r\n",
        "# Verify that cluster does not exist already\r\n",
        "try:\r\n",
        "    compute_target = ComputeTarget(workspace=ws, name=amlcompute_cluster_name)\r\n",
        "    print('Found existing cluster, use it.')\r\n",
        "except ComputeTargetException:\r\n",
        "    compute_config = AmlCompute.provisioning_configuration(vm_size='STANDARD_DS3_V2',                                                           \r\n",
        "                                                           max_nodes=4,\r\n",
        "                                                          min_nodes = 1, idle_seconds_before_scaledown = 600)\r\n",
        "    compute_target = ComputeTarget.create(ws, amlcompute_cluster_name, compute_config)\r\n",
        "\r\n",
        "compute_target.wait_for_completion(show_output=True)\r\n",
        "# For a more detailed view of current AmlCompute status, use get_status()."
      ],
      "outputs": [
        {
          "output_type": "stream",
          "name": "stdout",
          "text": [
            "Found existing cluster, use it.\n",
            "Succeeded\n",
            "AmlCompute wait for completion finished\n",
            "\n",
            "Minimum number of nodes requested have been provisioned\n"
          ]
        }
      ],
      "execution_count": 82,
      "metadata": {
        "collapsed": true,
        "jupyter": {
          "source_hidden": false,
          "outputs_hidden": false
        },
        "nteract": {
          "transient": {
            "deleting": false
          }
        },
        "gather": {
          "logged": 1623610213830
        }
      }
    },
    {
      "cell_type": "markdown",
      "source": [
        "## AutoML Configuration\n",
        "\n",
        "TODO: Explain why you chose the automl settings and cofiguration you used below."
      ],
      "metadata": {}
    },
    {
      "cell_type": "code",
      "source": [
        "# TODO: Put your automl settings here\n",
        "automl_settings = {\n",
        "    \"experiment_timeout_minutes\":60,\n",
        "    \"max_concurrent_iterations\":4,\n",
        "    \"primary_metric\": 'normalized_root_mean_squared_error',\n",
        "    'time_column_name': 'Date'\n",
        "}\n",
        "\n",
        "# TODO: Put your automl config here\n",
        "automl_config = AutoMLConfig(compute_target=compute_target,\n",
        "                             task = \"forecasting\",\n",
        "                             training_data=dataset_prepared,\n",
        "                             label_column_name=\"Adj Close\",\n",
        "                             enable_early_stopping= True,\n",
        "                             n_cross_validations=5,\n",
        "                             featurization= 'auto',\n",
        "                             debug_log = \"automl_errors.log\",\n",
        "                             **automl_settings\n",
        "                            )"
      ],
      "outputs": [],
      "execution_count": 85,
      "metadata": {
        "gather": {
          "logged": 1623610228597
        },
        "jupyter": {
          "outputs_hidden": false,
          "source_hidden": false
        },
        "nteract": {
          "transient": {
            "deleting": false
          }
        }
      }
    },
    {
      "cell_type": "code",
      "source": [
        "# TODO: Submit your experiment\n",
        "# Submit the experiment\n",
        "TRAIN = True\n",
        "\n",
        "if TRAIN:\n",
        "    run_autoML = experiment.submit(automl_config, show_output = True)\n",
        "    run_autoML.wait_for_completion()\n",
        "    \n",
        "# If we already did the training, we can get our run by passing the run_id.\n",
        "else:\n",
        "    run_autoML = AutoMLRun(experiment, 'AutoML_dd070e91-6e7a-4509-996d-5215e118b403')"
      ],
      "outputs": [
        {
          "output_type": "stream",
          "name": "stdout",
          "text": [
            "Submitting remote run.\n",
            "No run_configuration provided, running on AMLTraining with default configuration\n",
            "Running on remote compute: AMLTraining\n"
          ]
        },
        {
          "output_type": "display_data",
          "data": {
            "text/plain": "<IPython.core.display.HTML object>",
            "text/html": "<table style=\"width:100%\"><tr><th>Experiment</th><th>Id</th><th>Type</th><th>Status</th><th>Details Page</th><th>Docs Page</th></tr><tr><td>MSFT-stock</td><td>AutoML_dd070e91-6e7a-4509-996d-5215e118b403</td><td>automl</td><td>NotStarted</td><td><a href=\"https://ml.azure.com/runs/AutoML_dd070e91-6e7a-4509-996d-5215e118b403?wsid=/subscriptions/2c48c51c-bd47-40d4-abbe-fb8eabd19c8c/resourcegroups/aml-quickstarts-147101/workspaces/quick-starts-ws-147101&amp;tid=660b3398-b80e-49d2-bc5b-ac1dc93b5254\" target=\"_blank\" rel=\"noopener\">Link to Azure Machine Learning studio</a></td><td><a href=\"https://docs.microsoft.com/en-us/python/api/overview/azure/ml/intro?view=azure-ml-py\" target=\"_blank\" rel=\"noopener\">Link to Documentation</a></td></tr></table>"
          },
          "metadata": {}
        },
        {
          "output_type": "stream",
          "name": "stdout",
          "text": [
            "\n",
            "Current status: ModelSelection. Beginning model selection.\n",
            "\n",
            "****************************************************************************************************\n",
            "DATA GUARDRAILS: \n",
            "\n",
            "TYPE:         Short series handling\n",
            "STATUS:       PASSED\n",
            "DESCRIPTION:  Automated ML detected enough data points for each series in the input data to continue with training.\n",
            "              \n",
            "\n",
            "****************************************************************************************************\n",
            "\n",
            "TYPE:         Frequency detection\n",
            "STATUS:       PASSED\n",
            "DESCRIPTION:  The time series was analyzed, all data points are aligned with detected frequency.\n",
            "              \n",
            "\n",
            "****************************************************************************************************\n",
            "\n",
            "TYPE:         Missing feature values imputation\n",
            "STATUS:       PASSED\n",
            "DESCRIPTION:  No feature missing values were detected in the training data.\n",
            "              Learn more about missing value imputation: https://aka.ms/AutomatedMLFeaturization\n",
            "\n",
            "****************************************************************************************************\n",
            "\n",
            "****************************************************************************************************\n",
            "ITERATION: The iteration being evaluated.\n",
            "PIPELINE: A summary description of the pipeline being evaluated.\n",
            "DURATION: Time taken for the current iteration.\n",
            "METRIC: The result of computing score on the fitted pipeline.\n",
            "BEST: The best observed score thus far.\n",
            "****************************************************************************************************\n",
            "\n",
            " ITERATION   PIPELINE                                       DURATION      METRIC      BEST\n",
            "         0    AutoArima                                     0:00:46       0.2094    0.2094\n",
            "         3    SeasonalNaive                                 0:00:46       0.2559    0.2094\n",
            "         2    Naive                                         0:00:45       0.2080    0.2080\n",
            "         4    Average                                       0:01:48       0.3165    0.2080\n",
            "         5    SeasonalAverage                               0:01:49       0.2481    0.2080\n",
            "         6    ExponentialSmoothing                          0:01:02       0.2160    0.2080\n",
            "         1    ProphetModel                                  0:02:12       0.2625    0.2080\n",
            "         7   RobustScaler LassoLars                         0:00:46       0.1515    0.1515\n",
            "         8   RobustScaler DecisionTree                      0:00:43       0.1717    0.1515\n",
            "         9   StandardScalerWrapper DecisionTree             0:00:41       0.2080    0.1515\n",
            "        10   RobustScaler DecisionTree                      0:00:43       0.2080    0.1515\n",
            "        11   StandardScalerWrapper ElasticNet               0:00:40       0.1520    0.1515\n",
            "        12   MinMaxScaler DecisionTree                      0:00:44       0.1693    0.1515\n",
            "        13   MinMaxScaler ElasticNet                        0:00:43       0.1513    0.1513\n",
            "        14   StandardScalerWrapper DecisionTree             0:00:43       0.1717    0.1513\n",
            "        16   RobustScaler DecisionTree                      0:00:43       0.2080    0.1513\n",
            "        17   RobustScaler ElasticNet                        0:00:40       0.1515    0.1513\n",
            "        15   StandardScalerWrapper DecisionTree             0:01:01       0.2241    0.1513\n",
            "        18   RobustScaler DecisionTree                      0:00:51       0.2080    0.1513\n",
            "        19   RobustScaler DecisionTree                      0:00:45       0.2080    0.1513\n",
            "        20   StandardScalerWrapper DecisionTree             0:00:45       0.2301    0.1513\n",
            "        21   MinMaxScaler DecisionTree                      0:00:43       0.1717    0.1513\n",
            "        22   MinMaxScaler DecisionTree                      0:00:43       0.2080    0.1513\n",
            "        23   RobustScaler DecisionTree                      0:00:45       0.2080    0.1513\n",
            "        24   StandardScalerWrapper DecisionTree             0:00:48       0.2080    0.1513\n",
            "        25   SparseNormalizer ElasticNet                    0:00:43       0.3214    0.1513\n",
            "        26   MinMaxScaler DecisionTree                      0:00:46       0.2080    0.1513\n",
            "        27   StandardScalerWrapper LassoLars                0:00:43       0.1515    0.1513\n",
            "        28   MinMaxScaler DecisionTree                      0:00:42       0.2080    0.1513\n",
            "        29   StandardScalerWrapper DecisionTree             0:00:43       0.2080    0.1513\n",
            "        30   TruncatedSVDWrapper ElasticNet                 0:00:38       0.3214    0.1513\n",
            "        31   MinMaxScaler RandomForest                      0:00:43       0.1727    0.1513\n",
            "        32   MinMaxScaler DecisionTree                      0:00:48       0.2080    0.1513\n",
            "        33   MaxAbsScaler RandomForest                      0:00:42       0.1970    0.1513\n",
            "        34   StandardScalerWrapper RandomForest             0:00:24       0.1740    0.1513\n",
            "        35                                                  0:00:15          nan    0.1513\n",
            "        36    VotingEnsemble                                0:00:59       0.1421    0.1421\n"
          ]
        }
      ],
      "execution_count": 86,
      "metadata": {
        "gather": {
          "logged": 1623611129313
        },
        "jupyter": {
          "outputs_hidden": false,
          "source_hidden": false
        },
        "nteract": {
          "transient": {
            "deleting": false
          }
        }
      }
    },
    {
      "cell_type": "markdown",
      "source": [
        "## Run Details\n",
        "\n",
        "OPTIONAL: Write about the different models trained and their performance. Why do you think some models did better than others?\n",
        "\n",
        "TODO: In the cell below, use the `RunDetails` widget to show the different experiments."
      ],
      "metadata": {}
    },
    {
      "cell_type": "code",
      "source": [
        "RunDetails(run_autoML).show()"
      ],
      "outputs": [
        {
          "output_type": "display_data",
          "data": {
            "text/plain": "_AutoMLWidget(widget_settings={'childWidgetDisplay': 'popup', 'send_telemetry': False, 'log_level': 'INFO', 's…",
            "application/vnd.jupyter.widget-view+json": {
              "version_major": 2,
              "version_minor": 0,
              "model_id": "4af813af1c3a41cda029b75377ee2fff"
            }
          },
          "metadata": {}
        },
        {
          "output_type": "display_data",
          "data": {
            "application/aml.mini.widget.v1": "{\"status\": \"Completed\", \"workbench_run_details_uri\": \"https://ml.azure.com/runs/AutoML_dd070e91-6e7a-4509-996d-5215e118b403?wsid=/subscriptions/2c48c51c-bd47-40d4-abbe-fb8eabd19c8c/resourcegroups/aml-quickstarts-147101/workspaces/quick-starts-ws-147101&tid=660b3398-b80e-49d2-bc5b-ac1dc93b5254\", \"run_id\": \"AutoML_dd070e91-6e7a-4509-996d-5215e118b403\", \"run_properties\": {\"run_id\": \"AutoML_dd070e91-6e7a-4509-996d-5215e118b403\", \"created_utc\": \"2021-06-13T18:50:31.991867Z\", \"properties\": {\"num_iterations\": \"1000\", \"training_type\": \"TrainFull\", \"acquisition_function\": \"EI\", \"primary_metric\": \"normalized_root_mean_squared_error\", \"train_split\": \"0\", \"acquisition_parameter\": \"0\", \"num_cross_validation\": \"5\", \"target\": \"AMLTraining\", \"AMLSettingsJsonString\": \"{\\\"path\\\":null,\\\"name\\\":\\\"MSFT-stock\\\",\\\"subscription_id\\\":\\\"2c48c51c-bd47-40d4-abbe-fb8eabd19c8c\\\",\\\"resource_group\\\":\\\"aml-quickstarts-147101\\\",\\\"workspace_name\\\":\\\"quick-starts-ws-147101\\\",\\\"region\\\":\\\"southcentralus\\\",\\\"compute_target\\\":\\\"AMLTraining\\\",\\\"spark_service\\\":null,\\\"azure_service\\\":\\\"remote\\\",\\\"many_models\\\":false,\\\"pipeline_fetch_max_batch_size\\\":1,\\\"enable_batch_run\\\":false,\\\"enable_run_restructure\\\":false,\\\"start_auxiliary_runs_before_parent_complete\\\":false,\\\"enable_code_generation\\\":false,\\\"iterations\\\":1000,\\\"primary_metric\\\":\\\"normalized_root_mean_squared_error\\\",\\\"task_type\\\":\\\"regression\\\",\\\"data_script\\\":null,\\\"test_size\\\":0.0,\\\"validation_size\\\":0.0,\\\"n_cross_validations\\\":5,\\\"y_min\\\":null,\\\"y_max\\\":null,\\\"num_classes\\\":null,\\\"featurization\\\":\\\"auto\\\",\\\"_ignore_package_version_incompatibilities\\\":false,\\\"is_timeseries\\\":true,\\\"max_cores_per_iteration\\\":1,\\\"max_concurrent_iterations\\\":4,\\\"iteration_timeout_minutes\\\":null,\\\"mem_in_mb\\\":null,\\\"enforce_time_on_windows\\\":false,\\\"experiment_timeout_minutes\\\":60,\\\"experiment_exit_score\\\":null,\\\"whitelist_models\\\":null,\\\"blacklist_algos\\\":[\\\"TensorFlowDNN\\\",\\\"TensorFlowLinearRegressor\\\",\\\"Arimax\\\"],\\\"supported_models\\\":[\\\"AutoArima\\\",\\\"GradientBoosting\\\",\\\"DecisionTree\\\",\\\"TCNForecaster\\\",\\\"Naive\\\",\\\"XGBoostRegressor\\\",\\\"LassoLars\\\",\\\"ExtremeRandomTrees\\\",\\\"SGD\\\",\\\"KNN\\\",\\\"SeasonalNaive\\\",\\\"SeasonalAverage\\\",\\\"TensorFlowLinearRegressor\\\",\\\"Average\\\",\\\"LightGBM\\\",\\\"Arimax\\\",\\\"ExponentialSmoothing\\\",\\\"RandomForest\\\",\\\"ElasticNet\\\",\\\"TensorFlowDNN\\\",\\\"Prophet\\\"],\\\"private_models\\\":[],\\\"auto_blacklist\\\":true,\\\"blacklist_samples_reached\\\":false,\\\"exclude_nan_labels\\\":true,\\\"verbosity\\\":20,\\\"_debug_log\\\":\\\"azureml_automl.log\\\",\\\"show_warnings\\\":false,\\\"model_explainability\\\":true,\\\"service_url\\\":null,\\\"sdk_url\\\":null,\\\"sdk_packages\\\":null,\\\"enable_onnx_compatible_models\\\":false,\\\"enable_split_onnx_featurizer_estimator_models\\\":false,\\\"vm_type\\\":\\\"STANDARD_DS3_V2\\\",\\\"telemetry_verbosity\\\":20,\\\"send_telemetry\\\":true,\\\"enable_dnn\\\":false,\\\"scenario\\\":\\\"SDK-1.13.0\\\",\\\"environment_label\\\":null,\\\"save_mlflow\\\":false,\\\"force_text_dnn\\\":false,\\\"enable_feature_sweeping\\\":false,\\\"time_column_name\\\":\\\"Date\\\",\\\"grain_column_names\\\":null,\\\"drop_column_names\\\":[],\\\"max_horizon\\\":1,\\\"dropna\\\":false,\\\"overwrite_columns\\\":true,\\\"transform_dictionary\\\":{\\\"min\\\":\\\"_automl_target_col\\\",\\\"max\\\":\\\"_automl_target_col\\\",\\\"mean\\\":\\\"_automl_target_col\\\"},\\\"window_size\\\":null,\\\"country_or_region\\\":null,\\\"lags\\\":null,\\\"feature_lags\\\":null,\\\"seasonality\\\":\\\"auto\\\",\\\"use_stl\\\":null,\\\"short_series_handling\\\":true,\\\"freq\\\":null,\\\"short_series_handling_configuration\\\":\\\"auto\\\",\\\"target_aggregation_function\\\":null,\\\"enable_early_stopping\\\":true,\\\"early_stopping_n_iters\\\":10,\\\"metrics\\\":null,\\\"enable_metric_confidence\\\":false,\\\"enable_ensembling\\\":true,\\\"enable_stack_ensembling\\\":false,\\\"ensemble_iterations\\\":15,\\\"enable_tf\\\":false,\\\"enable_subsampling\\\":false,\\\"subsample_seed\\\":null,\\\"enable_nimbusml\\\":false,\\\"enable_streaming\\\":false,\\\"force_streaming\\\":false,\\\"track_child_runs\\\":true,\\\"allowed_private_models\\\":[],\\\"label_column_name\\\":\\\"Adj Close\\\",\\\"weight_column_name\\\":null,\\\"cv_split_column_names\\\":null,\\\"enable_local_managed\\\":false,\\\"_local_managed_run_id\\\":null,\\\"cost_mode\\\":1,\\\"lag_length\\\":0,\\\"metric_operation\\\":\\\"minimize\\\",\\\"preprocess\\\":true}\", \"DataPrepJsonString\": \"{\\\\\\\"training_data\\\\\\\": {\\\\\\\"datasetId\\\\\\\": \\\\\\\"87512de4-eef7-4eda-8a0b-2a0e943a971b\\\\\\\"}, \\\\\\\"datasets\\\\\\\": 0}\", \"EnableSubsampling\": \"False\", \"runTemplate\": \"AutoML\", \"azureml.runsource\": \"automl\", \"display_task_type\": \"forecasting\", \"dependencies_versions\": \"{\\\"azureml-widgets\\\": \\\"1.28.0\\\", \\\"azureml-train\\\": \\\"1.28.0\\\", \\\"azureml-train-restclients-hyperdrive\\\": \\\"1.28.0\\\", \\\"azureml-train-core\\\": \\\"1.28.0\\\", \\\"azureml-train-automl\\\": \\\"1.28.0\\\", \\\"azureml-train-automl-runtime\\\": \\\"1.28.0\\\", \\\"azureml-train-automl-client\\\": \\\"1.28.0\\\", \\\"azureml-tensorboard\\\": \\\"1.28.0\\\", \\\"azureml-telemetry\\\": \\\"1.28.0\\\", \\\"azureml-sdk\\\": \\\"1.28.0\\\", \\\"azureml-samples\\\": \\\"0+unknown\\\", \\\"azureml-pipeline\\\": \\\"1.28.0\\\", \\\"azureml-pipeline-steps\\\": \\\"1.28.0\\\", \\\"azureml-pipeline-core\\\": \\\"1.28.0\\\", \\\"azureml-opendatasets\\\": \\\"1.28.0\\\", \\\"azureml-model-management-sdk\\\": \\\"1.0.1b6.post1\\\", \\\"azureml-mlflow\\\": \\\"1.28.0\\\", \\\"azureml-interpret\\\": \\\"1.28.0\\\", \\\"azureml-explain-model\\\": \\\"1.28.0\\\", \\\"azureml-defaults\\\": \\\"1.28.0\\\", \\\"azureml-dataset-runtime\\\": \\\"1.28.0\\\", \\\"azureml-dataprep\\\": \\\"2.15.0\\\", \\\"azureml-dataprep-rslex\\\": \\\"1.13.0\\\", \\\"azureml-dataprep-native\\\": \\\"33.0.0\\\", \\\"azureml-datadrift\\\": \\\"1.28.0\\\", \\\"azureml-core\\\": \\\"1.28.0\\\", \\\"azureml-contrib-services\\\": \\\"1.28.0\\\", \\\"azureml-contrib-server\\\": \\\"1.28.0\\\", \\\"azureml-contrib-reinforcementlearning\\\": \\\"1.28.0\\\", \\\"azureml-contrib-pipeline-steps\\\": \\\"1.28.0\\\", \\\"azureml-contrib-notebook\\\": \\\"1.28.0\\\", \\\"azureml-contrib-gbdt\\\": \\\"1.28.0\\\", \\\"azureml-contrib-fairness\\\": \\\"1.28.0\\\", \\\"azureml-contrib-dataset\\\": \\\"1.28.0\\\", \\\"azureml-cli-common\\\": \\\"1.28.0\\\", \\\"azureml-automl-runtime\\\": \\\"1.28.0.post2\\\", \\\"azureml-automl-dnn-nlp\\\": \\\"1.28.0\\\", \\\"azureml-automl-core\\\": \\\"1.28.0\\\", \\\"azureml-accel-models\\\": \\\"1.28.0\\\"}\", \"_aml_system_scenario_identification\": \"Remote.Parent\", \"ClientType\": \"SDK\", \"environment_cpu_name\": \"AzureML-AutoML\", \"environment_cpu_label\": \"prod\", \"environment_gpu_name\": \"AzureML-AutoML-GPU\", \"environment_gpu_label\": \"prod\", \"root_attribution\": \"automl\", \"attribution\": \"AutoML\", \"Orchestrator\": \"AutoML\", \"CancelUri\": \"https://southcentralus.api.azureml.ms/jasmine/v1.0/subscriptions/2c48c51c-bd47-40d4-abbe-fb8eabd19c8c/resourceGroups/aml-quickstarts-147101/providers/Microsoft.MachineLearningServices/workspaces/quick-starts-ws-147101/experimentids/00e3a9c9-d21d-4690-a9f2-b8bca1ac970c/cancel/AutoML_dd070e91-6e7a-4509-996d-5215e118b403\", \"ClientSdkVersion\": \"1.29.0\", \"snapshotId\": \"00000000-0000-0000-0000-000000000000\", \"SetupRunId\": \"AutoML_dd070e91-6e7a-4509-996d-5215e118b403_setup\", \"SetupRunContainerId\": \"dcid.AutoML_dd070e91-6e7a-4509-996d-5215e118b403_setup\", \"forecasting_target_lags\": \"[0]\", \"forecasting_target_rolling_window_size\": \"0\", \"forecasting_max_horizon\": \"1\", \"forecasting_freq\": \"D\", \"ProblemInfoJsonString\": \"{\\\"dataset_num_categorical\\\": 0, \\\"is_sparse\\\": false, \\\"subsampling\\\": false, \\\"has_extra_col\\\": false, \\\"dataset_classes\\\": 21, \\\"dataset_features\\\": 4, \\\"dataset_samples\\\": 30, \\\"single_frequency_class_detected\\\": false, \\\"series_column_count\\\": 1, \\\"series_count\\\": 1, \\\"series_len_min\\\": 21, \\\"series_len_max\\\": 21, \\\"series_len_avg\\\": 21.0, \\\"series_len_perc_25\\\": 21.0, \\\"series_len_perc_50\\\": 21.0, \\\"series_len_perc_75\\\": 21.0}\", \"ModelExplainRunId\": \"AutoML_dd070e91-6e7a-4509-996d-5215e118b403_ModelExplain\"}, \"tags\": {\"model_explain_run\": \"best_run\", \"_aml_system_azureml.automlComponent\": \"AutoML\", \"pipeline_id\": \"\", \"score\": \"\", \"predicted_cost\": \"\", \"fit_time\": \"\", \"training_percent\": \"\", \"iteration\": \"\", \"run_preprocessor\": \"\", \"run_algorithm\": \"\", \"dynamic_whitelisting_iterations\": \"<25>;<30>;<35>;\", \"automl_best_child_run_id\": \"AutoML_dd070e91-6e7a-4509-996d-5215e118b403_36\", \"model_explain_best_run_child_id\": \"AutoML_dd070e91-6e7a-4509-996d-5215e118b403_36\"}, \"end_time_utc\": \"2021-06-13T19:05:14.81624Z\", \"status\": \"Completed\", \"log_files\": {}, \"log_groups\": [], \"run_duration\": \"0:14:42\", \"run_number\": \"1\", \"run_queued_details\": {\"status\": \"Completed\", \"details\": null}}, \"child_runs\": [{\"run_id\": \"AutoML_dd070e91-6e7a-4509-996d-5215e118b403_0\", \"run_number\": 3, \"metric\": null, \"status\": \"Completed\", \"run_type\": \"azureml.scriptrun\", \"training_percent\": \"100\", \"start_time\": \"2021-06-13T18:52:50.470016Z\", \"end_time\": \"2021-06-13T18:53:36.677141Z\", \"created_time\": \"2021-06-13T18:52:36.338905Z\", \"created_time_dt\": \"2021-06-13T18:52:36.338905Z\", \"duration\": \"0:01:00\", \"iteration\": \"0\", \"goal\": \"normalized_root_mean_squared_error_min\", \"run_name\": \"AutoArima\", \"run_properties\": \"\\n    timeseries_param_dict={'time_column_name': 'Date', 'grain_column_names': None, 'drop_column_names': [], 'overwrite_columns': True, 'dropna': False, 'transform_dictionary': {'min': '_automl_target_col', 'max': '_automl_target_col', 'mean': '_automl_target_col'}, 'max_horizon': 1, 'origin_time_colname': 'origin', 'country_or_region': None, 'n_cross_validations': 5, 'short_series_handling': True, 'max_cores_per_iteration': 1, 'feature_lags': None, 'target_aggregation_function': None, 'seasonality': 7, 'use_stl': None, 'freq': <Day>, 'short_series_handling_configuration': 'auto', 'target_lags': [0], 'target_rolling_window_size': 0, 'arimax_raw_columns': ['Date']}\\n\", \"primary_metric\": 0.20944547, \"best_metric\": 0.20944547}, {\"run_id\": \"AutoML_dd070e91-6e7a-4509-996d-5215e118b403_2\", \"run_number\": 4, \"metric\": null, \"status\": \"Completed\", \"run_type\": \"azureml.scriptrun\", \"training_percent\": \"100\", \"start_time\": \"2021-06-13T18:54:53.96598Z\", \"end_time\": \"2021-06-13T18:55:38.634137Z\", \"created_time\": \"2021-06-13T18:52:36.365183Z\", \"created_time_dt\": \"2021-06-13T18:52:36.365183Z\", \"duration\": \"0:03:02\", \"iteration\": \"2\", \"goal\": \"normalized_root_mean_squared_error_min\", \"run_name\": \"Naive\", \"run_properties\": \"\\n    timeseries_param_dict={'time_column_name': 'Date', 'grain_column_names': None, 'drop_column_names': [], 'overwrite_columns': True, 'dropna': False, 'transform_dictionary': {'min': '_automl_target_col', 'max': '_automl_target_col', 'mean': '_automl_target_col'}, 'max_horizon': 1, 'origin_time_colname': 'origin', 'country_or_region': None, 'n_cross_validations': 5, 'short_series_handling': True, 'max_cores_per_iteration': 1, 'feature_lags': None, 'target_aggregation_function': None, 'seasonality': 7, 'use_stl': None, 'freq': <Day>, 'short_series_handling_configuration': 'auto', 'target_lags': [0], 'target_rolling_window_size': 0, 'arimax_raw_columns': ['Date']}\\n\", \"primary_metric\": 0.2080267, \"best_metric\": 0.2080267}, {\"run_id\": \"AutoML_dd070e91-6e7a-4509-996d-5215e118b403_3\", \"run_number\": 5, \"metric\": null, \"status\": \"Completed\", \"run_type\": \"azureml.scriptrun\", \"training_percent\": \"100\", \"start_time\": \"2021-06-13T18:53:52.12639Z\", \"end_time\": \"2021-06-13T18:54:37.829713Z\", \"created_time\": \"2021-06-13T18:52:36.367934Z\", \"created_time_dt\": \"2021-06-13T18:52:36.367934Z\", \"duration\": \"0:02:01\", \"iteration\": \"3\", \"goal\": \"normalized_root_mean_squared_error_min\", \"run_name\": \"SeasonalNaive\", \"run_properties\": \"\\n    timeseries_param_dict={'time_column_name': 'Date', 'grain_column_names': None, 'drop_column_names': [], 'overwrite_columns': True, 'dropna': False, 'transform_dictionary': {'min': '_automl_target_col', 'max': '_automl_target_col', 'mean': '_automl_target_col'}, 'max_horizon': 1, 'origin_time_colname': 'origin', 'country_or_region': None, 'n_cross_validations': 5, 'short_series_handling': True, 'max_cores_per_iteration': 1, 'feature_lags': None, 'target_aggregation_function': None, 'seasonality': 7, 'use_stl': None, 'freq': <Day>, 'short_series_handling_configuration': 'auto', 'target_lags': [0], 'target_rolling_window_size': 0, 'arimax_raw_columns': ['Date']}\\n\", \"primary_metric\": 0.2559205, \"best_metric\": 0.2080267}, {\"run_id\": \"AutoML_dd070e91-6e7a-4509-996d-5215e118b403_1\", \"run_number\": 6, \"metric\": null, \"status\": \"Completed\", \"run_type\": \"azureml.scriptrun\", \"training_percent\": \"100\", \"start_time\": \"2021-06-13T18:55:07.964876Z\", \"end_time\": \"2021-06-13T18:57:19.710285Z\", \"created_time\": \"2021-06-13T18:52:36.367599Z\", \"created_time_dt\": \"2021-06-13T18:52:36.367599Z\", \"duration\": \"0:04:43\", \"iteration\": \"1\", \"goal\": \"normalized_root_mean_squared_error_min\", \"run_name\": \"ProphetModel\", \"run_properties\": \"\\n    timeseries_param_dict={'time_column_name': 'Date', 'grain_column_names': None, 'drop_column_names': [], 'overwrite_columns': True, 'dropna': False, 'transform_dictionary': {'min': '_automl_target_col', 'max': '_automl_target_col', 'mean': '_automl_target_col'}, 'max_horizon': 1, 'origin_time_colname': 'origin', 'country_or_region': None, 'n_cross_validations': 5, 'short_series_handling': True, 'max_cores_per_iteration': 1, 'feature_lags': None, 'target_aggregation_function': None, 'seasonality': 7, 'use_stl': None, 'freq': <Day>, 'short_series_handling_configuration': 'auto', 'target_lags': [0], 'target_rolling_window_size': 0, 'arimax_raw_columns': ['Date']},\\n    prophet_param_dict={'uncertainty_samples': 0}\\n\", \"primary_metric\": 0.26251607, \"best_metric\": 0.20944547}, {\"run_id\": \"AutoML_dd070e91-6e7a-4509-996d-5215e118b403_4\", \"run_number\": 7, \"metric\": null, \"status\": \"Completed\", \"run_type\": \"azureml.scriptrun\", \"training_percent\": \"100\", \"start_time\": \"2021-06-13T18:55:08.728483Z\", \"end_time\": \"2021-06-13T18:56:56.6234Z\", \"created_time\": \"2021-06-13T18:53:37.607857Z\", \"created_time_dt\": \"2021-06-13T18:53:37.607857Z\", \"duration\": \"0:03:19\", \"iteration\": \"4\", \"goal\": \"normalized_root_mean_squared_error_min\", \"run_name\": \"Average\", \"run_properties\": \"\\n    timeseries_param_dict={'time_column_name': 'Date', 'grain_column_names': None, 'drop_column_names': [], 'overwrite_columns': True, 'dropna': False, 'transform_dictionary': {'min': '_automl_target_col', 'max': '_automl_target_col', 'mean': '_automl_target_col'}, 'max_horizon': 1, 'origin_time_colname': 'origin', 'country_or_region': None, 'n_cross_validations': 5, 'short_series_handling': True, 'max_cores_per_iteration': 1, 'feature_lags': None, 'target_aggregation_function': None, 'seasonality': 7, 'use_stl': None, 'freq': <Day>, 'short_series_handling_configuration': 'auto', 'target_lags': [0], 'target_rolling_window_size': 0, 'arimax_raw_columns': ['Date']}\\n\", \"primary_metric\": 0.31645233, \"best_metric\": 0.2080267}, {\"run_id\": \"AutoML_dd070e91-6e7a-4509-996d-5215e118b403_5\", \"run_number\": 8, \"metric\": null, \"status\": \"Completed\", \"run_type\": \"azureml.scriptrun\", \"training_percent\": \"100\", \"start_time\": \"2021-06-13T18:55:07.352243Z\", \"end_time\": \"2021-06-13T18:56:56.641525Z\", \"created_time\": \"2021-06-13T18:54:38.700128Z\", \"created_time_dt\": \"2021-06-13T18:54:38.700128Z\", \"duration\": \"0:02:17\", \"iteration\": \"5\", \"goal\": \"normalized_root_mean_squared_error_min\", \"run_name\": \"SeasonalAverage\", \"run_properties\": \"\\n    timeseries_param_dict={'time_column_name': 'Date', 'grain_column_names': None, 'drop_column_names': [], 'overwrite_columns': True, 'dropna': False, 'transform_dictionary': {'min': '_automl_target_col', 'max': '_automl_target_col', 'mean': '_automl_target_col'}, 'max_horizon': 1, 'origin_time_colname': 'origin', 'country_or_region': None, 'n_cross_validations': 5, 'short_series_handling': True, 'max_cores_per_iteration': 1, 'feature_lags': None, 'target_aggregation_function': None, 'seasonality': 7, 'use_stl': None, 'freq': <Day>, 'short_series_handling_configuration': 'auto', 'target_lags': [0], 'target_rolling_window_size': 0, 'arimax_raw_columns': ['Date']}\\n\", \"primary_metric\": 0.24806403, \"best_metric\": 0.2080267}, {\"run_id\": \"AutoML_dd070e91-6e7a-4509-996d-5215e118b403_6\", \"run_number\": 9, \"metric\": null, \"status\": \"Completed\", \"run_type\": \"azureml.scriptrun\", \"training_percent\": \"100\", \"start_time\": \"2021-06-13T18:55:53.888383Z\", \"end_time\": \"2021-06-13T18:56:55.444585Z\", \"created_time\": \"2021-06-13T18:55:39.582534Z\", \"created_time_dt\": \"2021-06-13T18:55:39.582534Z\", \"duration\": \"0:01:15\", \"iteration\": \"6\", \"goal\": \"normalized_root_mean_squared_error_min\", \"run_name\": \"ExponentialSmoothing\", \"run_properties\": \"\\n    timeseries_param_dict={'time_column_name': 'Date', 'grain_column_names': None, 'drop_column_names': [], 'overwrite_columns': True, 'dropna': False, 'transform_dictionary': {'min': '_automl_target_col', 'max': '_automl_target_col', 'mean': '_automl_target_col'}, 'max_horizon': 1, 'origin_time_colname': 'origin', 'country_or_region': None, 'n_cross_validations': 5, 'short_series_handling': True, 'max_cores_per_iteration': 1, 'feature_lags': None, 'target_aggregation_function': None, 'seasonality': 7, 'use_stl': None, 'freq': <Day>, 'short_series_handling_configuration': 'auto', 'target_lags': [0], 'target_rolling_window_size': 0, 'arimax_raw_columns': ['Date']}\\n\", \"primary_metric\": 0.21598481, \"best_metric\": 0.2080267}, {\"run_id\": \"AutoML_dd070e91-6e7a-4509-996d-5215e118b403_7\", \"run_number\": 10, \"metric\": null, \"status\": \"Completed\", \"run_type\": \"azureml.scriptrun\", \"training_percent\": \"100\", \"start_time\": \"2021-06-13T18:57:08.975374Z\", \"end_time\": \"2021-06-13T18:57:54.513277Z\", \"created_time\": \"2021-06-13T18:56:56.843625Z\", \"created_time_dt\": \"2021-06-13T18:56:56.843625Z\", \"duration\": \"0:00:57\", \"iteration\": \"7\", \"goal\": \"normalized_root_mean_squared_error_min\", \"run_name\": \"RobustScaler, LassoLars\", \"run_properties\": \"copy=True, quantile_range=[10, 90], with_centering=False,\\n             with_scaling=True\", \"primary_metric\": 0.15149366, \"best_metric\": 0.15149366}, {\"run_id\": \"AutoML_dd070e91-6e7a-4509-996d-5215e118b403_8\", \"run_number\": 11, \"metric\": null, \"status\": \"Completed\", \"run_type\": \"azureml.scriptrun\", \"training_percent\": \"100\", \"start_time\": \"2021-06-13T18:57:12.315531Z\", \"end_time\": \"2021-06-13T18:57:55.014415Z\", \"created_time\": \"2021-06-13T18:56:59.788131Z\", \"created_time_dt\": \"2021-06-13T18:56:59.788131Z\", \"duration\": \"0:00:55\", \"iteration\": \"8\", \"goal\": \"normalized_root_mean_squared_error_min\", \"run_name\": \"RobustScaler, DecisionTree\", \"run_properties\": \"copy=True, quantile_range=[10, 90], with_centering=True,\\n             with_scaling=False\", \"primary_metric\": 0.17171086, \"best_metric\": 0.15149366}, {\"run_id\": \"AutoML_dd070e91-6e7a-4509-996d-5215e118b403_9\", \"run_number\": 12, \"metric\": null, \"status\": \"Completed\", \"run_type\": \"azureml.scriptrun\", \"training_percent\": \"100\", \"start_time\": \"2021-06-13T18:57:14.961016Z\", \"end_time\": \"2021-06-13T18:57:55.973233Z\", \"created_time\": \"2021-06-13T18:56:59.81075Z\", \"created_time_dt\": \"2021-06-13T18:56:59.81075Z\", \"duration\": \"0:00:56\", \"iteration\": \"9\", \"goal\": \"normalized_root_mean_squared_error_min\", \"run_name\": \"StandardScalerWrapper, DecisionTree\", \"run_properties\": \"\\n    copy=True,\\n    with_mean=True,\\n    with_std=False\\n\", \"primary_metric\": 0.2080267, \"best_metric\": 0.15149366}, {\"run_id\": \"AutoML_dd070e91-6e7a-4509-996d-5215e118b403_10\", \"run_number\": 13, \"metric\": null, \"status\": \"Completed\", \"run_type\": \"azureml.scriptrun\", \"training_percent\": \"100\", \"start_time\": \"2021-06-13T18:57:33.697921Z\", \"end_time\": \"2021-06-13T18:58:16.441905Z\", \"created_time\": \"2021-06-13T18:57:20.99035Z\", \"created_time_dt\": \"2021-06-13T18:57:20.99035Z\", \"duration\": \"0:00:55\", \"iteration\": \"10\", \"goal\": \"normalized_root_mean_squared_error_min\", \"run_name\": \"RobustScaler, DecisionTree\", \"run_properties\": \"copy=True, quantile_range=[10, 90], with_centering=False,\\n             with_scaling=True\", \"primary_metric\": 0.2080267, \"best_metric\": 0.15149366}, {\"run_id\": \"AutoML_dd070e91-6e7a-4509-996d-5215e118b403_11\", \"run_number\": 14, \"metric\": null, \"status\": \"Completed\", \"run_type\": \"azureml.scriptrun\", \"training_percent\": \"100\", \"start_time\": \"2021-06-13T18:58:09.206545Z\", \"end_time\": \"2021-06-13T18:58:48.931746Z\", \"created_time\": \"2021-06-13T18:57:56.926762Z\", \"created_time_dt\": \"2021-06-13T18:57:56.926762Z\", \"duration\": \"0:00:52\", \"iteration\": \"11\", \"goal\": \"normalized_root_mean_squared_error_min\", \"run_name\": \"StandardScalerWrapper, ElasticNet\", \"run_properties\": \"\\n    copy=True,\\n    with_mean=False,\\n    with_std=True\\n\", \"primary_metric\": 0.15202856, \"best_metric\": 0.15149366}, {\"run_id\": \"AutoML_dd070e91-6e7a-4509-996d-5215e118b403_12\", \"run_number\": 15, \"metric\": null, \"status\": \"Completed\", \"run_type\": \"azureml.scriptrun\", \"training_percent\": \"100\", \"start_time\": \"2021-06-13T18:58:08.630795Z\", \"end_time\": \"2021-06-13T18:58:52.714874Z\", \"created_time\": \"2021-06-13T18:58:01.111082Z\", \"created_time_dt\": \"2021-06-13T18:58:01.111082Z\", \"duration\": \"0:00:51\", \"iteration\": \"12\", \"goal\": \"normalized_root_mean_squared_error_min\", \"run_name\": \"MinMaxScaler, DecisionTree\", \"run_properties\": \"copy=True, feature_range=(0, 1\", \"primary_metric\": 0.16934186, \"best_metric\": 0.15149366}, {\"run_id\": \"AutoML_dd070e91-6e7a-4509-996d-5215e118b403_13\", \"run_number\": 16, \"metric\": null, \"status\": \"Completed\", \"run_type\": \"azureml.scriptrun\", \"training_percent\": \"100\", \"start_time\": \"2021-06-13T18:58:13.170047Z\", \"end_time\": \"2021-06-13T18:58:55.689642Z\", \"created_time\": \"2021-06-13T18:58:01.131033Z\", \"created_time_dt\": \"2021-06-13T18:58:01.131033Z\", \"duration\": \"0:00:54\", \"iteration\": \"13\", \"goal\": \"normalized_root_mean_squared_error_min\", \"run_name\": \"MinMaxScaler, ElasticNet\", \"run_properties\": \"copy=True, feature_range=(0, 1\", \"primary_metric\": 0.15128852, \"best_metric\": 0.15128852}, {\"run_id\": \"AutoML_dd070e91-6e7a-4509-996d-5215e118b403_14\", \"run_number\": 17, \"metric\": null, \"status\": \"Completed\", \"run_type\": \"azureml.scriptrun\", \"training_percent\": \"100\", \"start_time\": \"2021-06-13T18:58:33.957033Z\", \"end_time\": \"2021-06-13T18:59:17.398411Z\", \"created_time\": \"2021-06-13T18:58:18.986808Z\", \"created_time_dt\": \"2021-06-13T18:58:18.986808Z\", \"duration\": \"0:00:58\", \"iteration\": \"14\", \"goal\": \"normalized_root_mean_squared_error_min\", \"run_name\": \"StandardScalerWrapper, DecisionTree\", \"run_properties\": \"\\n    copy=True,\\n    with_mean=True,\\n    with_std=False\\n\", \"primary_metric\": 0.17171086, \"best_metric\": 0.15128852}, {\"run_id\": \"AutoML_dd070e91-6e7a-4509-996d-5215e118b403_15\", \"run_number\": 18, \"metric\": null, \"status\": \"Completed\", \"run_type\": \"azureml.scriptrun\", \"training_percent\": \"100\", \"start_time\": \"2021-06-13T18:59:05.354413Z\", \"end_time\": \"2021-06-13T19:00:06.679674Z\", \"created_time\": \"2021-06-13T18:58:51.467963Z\", \"created_time_dt\": \"2021-06-13T18:58:51.467963Z\", \"duration\": \"0:01:15\", \"iteration\": \"15\", \"goal\": \"normalized_root_mean_squared_error_min\", \"run_name\": \"StandardScalerWrapper, DecisionTree\", \"run_properties\": \"\\n    copy=True,\\n    with_mean=True,\\n    with_std=False\\n\", \"primary_metric\": 0.2240795, \"best_metric\": 0.15128852}, {\"run_id\": \"AutoML_dd070e91-6e7a-4509-996d-5215e118b403_16\", \"run_number\": 19, \"metric\": null, \"status\": \"Completed\", \"run_type\": \"azureml.scriptrun\", \"training_percent\": \"100\", \"start_time\": \"2021-06-13T18:59:06.993452Z\", \"end_time\": \"2021-06-13T18:59:49.543797Z\", \"created_time\": \"2021-06-13T18:58:55.031356Z\", \"created_time_dt\": \"2021-06-13T18:58:55.031356Z\", \"duration\": \"0:00:54\", \"iteration\": \"16\", \"goal\": \"normalized_root_mean_squared_error_min\", \"run_name\": \"RobustScaler, DecisionTree\", \"run_properties\": \"copy=True, quantile_range=[10, 90], with_centering=True,\\n             with_scaling=False\", \"primary_metric\": 0.2080267, \"best_metric\": 0.15128852}, {\"run_id\": \"AutoML_dd070e91-6e7a-4509-996d-5215e118b403_17\", \"run_number\": 20, \"metric\": null, \"status\": \"Completed\", \"run_type\": \"azureml.scriptrun\", \"training_percent\": \"100\", \"start_time\": \"2021-06-13T18:59:10.628967Z\", \"end_time\": \"2021-06-13T18:59:50.504509Z\", \"created_time\": \"2021-06-13T18:58:58.644713Z\", \"created_time_dt\": \"2021-06-13T18:58:58.644713Z\", \"duration\": \"0:00:51\", \"iteration\": \"17\", \"goal\": \"normalized_root_mean_squared_error_min\", \"run_name\": \"RobustScaler, ElasticNet\", \"run_properties\": \"copy=True, quantile_range=[25, 75], with_centering=True,\\n             with_scaling=False\", \"primary_metric\": 0.15150048, \"best_metric\": 0.15128852}, {\"run_id\": \"AutoML_dd070e91-6e7a-4509-996d-5215e118b403_18\", \"run_number\": 21, \"metric\": null, \"status\": \"Completed\", \"run_type\": \"azureml.scriptrun\", \"training_percent\": \"100\", \"start_time\": \"2021-06-13T18:59:31.671821Z\", \"end_time\": \"2021-06-13T19:00:23.022605Z\", \"created_time\": \"2021-06-13T18:59:19.841098Z\", \"created_time_dt\": \"2021-06-13T18:59:19.841098Z\", \"duration\": \"0:01:03\", \"iteration\": \"18\", \"goal\": \"normalized_root_mean_squared_error_min\", \"run_name\": \"RobustScaler, DecisionTree\", \"run_properties\": \"copy=True, quantile_range=[10, 90], with_centering=False,\\n             with_scaling=False\", \"primary_metric\": 0.2080267, \"best_metric\": 0.15128852}, {\"run_id\": \"AutoML_dd070e91-6e7a-4509-996d-5215e118b403_19\", \"run_number\": 22, \"metric\": null, \"status\": \"Completed\", \"run_type\": \"azureml.scriptrun\", \"training_percent\": \"100\", \"start_time\": \"2021-06-13T19:00:04.10724Z\", \"end_time\": \"2021-06-13T19:00:49.562811Z\", \"created_time\": \"2021-06-13T18:59:51.890209Z\", \"created_time_dt\": \"2021-06-13T18:59:51.890209Z\", \"duration\": \"0:00:57\", \"iteration\": \"19\", \"goal\": \"normalized_root_mean_squared_error_min\", \"run_name\": \"RobustScaler, DecisionTree\", \"run_properties\": \"copy=True, quantile_range=[10, 90], with_centering=False,\\n             with_scaling=False\", \"primary_metric\": 0.2080267, \"best_metric\": 0.15128852}, {\"run_id\": \"AutoML_dd070e91-6e7a-4509-996d-5215e118b403_20\", \"run_number\": 23, \"metric\": null, \"status\": \"Completed\", \"run_type\": \"azureml.scriptrun\", \"training_percent\": \"100\", \"start_time\": \"2021-06-13T19:00:07.673044Z\", \"end_time\": \"2021-06-13T19:00:53.084717Z\", \"created_time\": \"2021-06-13T18:59:55.73474Z\", \"created_time_dt\": \"2021-06-13T18:59:55.73474Z\", \"duration\": \"0:00:57\", \"iteration\": \"20\", \"goal\": \"normalized_root_mean_squared_error_min\", \"run_name\": \"StandardScalerWrapper, DecisionTree\", \"run_properties\": \"\\n    copy=True,\\n    with_mean=True,\\n    with_std=False\\n\", \"primary_metric\": 0.23013204, \"best_metric\": 0.15128852}, {\"run_id\": \"AutoML_dd070e91-6e7a-4509-996d-5215e118b403_21\", \"run_number\": 24, \"metric\": null, \"status\": \"Completed\", \"run_type\": \"azureml.scriptrun\", \"training_percent\": \"100\", \"start_time\": \"2021-06-13T19:00:21.228404Z\", \"end_time\": \"2021-06-13T19:01:03.734779Z\", \"created_time\": \"2021-06-13T19:00:09.092864Z\", \"created_time_dt\": \"2021-06-13T19:00:09.092864Z\", \"duration\": \"0:00:54\", \"iteration\": \"21\", \"goal\": \"normalized_root_mean_squared_error_min\", \"run_name\": \"MinMaxScaler, DecisionTree\", \"run_properties\": \"copy=True, feature_range=(0, 1\", \"primary_metric\": 0.17171086, \"best_metric\": 0.15128852}, {\"run_id\": \"AutoML_dd070e91-6e7a-4509-996d-5215e118b403_22\", \"run_number\": 25, \"metric\": null, \"status\": \"Completed\", \"run_type\": \"azureml.scriptrun\", \"training_percent\": \"100\", \"start_time\": \"2021-06-13T19:00:40.12488Z\", \"end_time\": \"2021-06-13T19:01:23.297328Z\", \"created_time\": \"2021-06-13T19:00:25.330336Z\", \"created_time_dt\": \"2021-06-13T19:00:25.330336Z\", \"duration\": \"0:00:57\", \"iteration\": \"22\", \"goal\": \"normalized_root_mean_squared_error_min\", \"run_name\": \"MinMaxScaler, DecisionTree\", \"run_properties\": \"copy=True, feature_range=(0, 1\", \"primary_metric\": 0.2080267, \"best_metric\": 0.15128852}, {\"run_id\": \"AutoML_dd070e91-6e7a-4509-996d-5215e118b403_23\", \"run_number\": 26, \"metric\": null, \"status\": \"Completed\", \"run_type\": \"azureml.scriptrun\", \"training_percent\": \"100\", \"start_time\": \"2021-06-13T19:01:03.163773Z\", \"end_time\": \"2021-06-13T19:01:47.976136Z\", \"created_time\": \"2021-06-13T19:00:52.473826Z\", \"created_time_dt\": \"2021-06-13T19:00:52.473826Z\", \"duration\": \"0:00:55\", \"iteration\": \"23\", \"goal\": \"normalized_root_mean_squared_error_min\", \"run_name\": \"RobustScaler, DecisionTree\", \"run_properties\": \"copy=True, quantile_range=[25, 75], with_centering=True,\\n             with_scaling=False\", \"primary_metric\": 0.2080267, \"best_metric\": 0.15128852}, {\"run_id\": \"AutoML_dd070e91-6e7a-4509-996d-5215e118b403_24\", \"run_number\": 27, \"metric\": null, \"status\": \"Completed\", \"run_type\": \"azureml.scriptrun\", \"training_percent\": \"100\", \"start_time\": \"2021-06-13T19:01:08.608775Z\", \"end_time\": \"2021-06-13T19:01:57.054159Z\", \"created_time\": \"2021-06-13T19:00:56.392195Z\", \"created_time_dt\": \"2021-06-13T19:00:56.392195Z\", \"duration\": \"0:01:00\", \"iteration\": \"24\", \"goal\": \"normalized_root_mean_squared_error_min\", \"run_name\": \"StandardScalerWrapper, DecisionTree\", \"run_properties\": \"\\n    copy=True,\\n    with_mean=True,\\n    with_std=True\\n\", \"primary_metric\": 0.2080267, \"best_metric\": 0.15128852}, {\"run_id\": \"AutoML_dd070e91-6e7a-4509-996d-5215e118b403_25\", \"run_number\": 28, \"metric\": null, \"status\": \"Completed\", \"run_type\": \"azureml.scriptrun\", \"training_percent\": \"100\", \"start_time\": \"2021-06-13T19:01:22.796593Z\", \"end_time\": \"2021-06-13T19:02:05.999654Z\", \"created_time\": \"2021-06-13T19:01:07.779411Z\", \"created_time_dt\": \"2021-06-13T19:01:07.779411Z\", \"duration\": \"0:00:58\", \"iteration\": \"25\", \"goal\": \"normalized_root_mean_squared_error_min\", \"run_name\": \"SparseNormalizer, ElasticNet\", \"run_properties\": \"copy=True, norm='l1'\", \"primary_metric\": 0.32138189, \"best_metric\": 0.15128852}, {\"run_id\": \"AutoML_dd070e91-6e7a-4509-996d-5215e118b403_26\", \"run_number\": 29, \"metric\": null, \"status\": \"Completed\", \"run_type\": \"azureml.scriptrun\", \"training_percent\": \"100\", \"start_time\": \"2021-06-13T19:01:40.093658Z\", \"end_time\": \"2021-06-13T19:02:26.153946Z\", \"created_time\": \"2021-06-13T19:01:25.712Z\", \"created_time_dt\": \"2021-06-13T19:01:25.712Z\", \"duration\": \"0:01:00\", \"iteration\": \"26\", \"goal\": \"normalized_root_mean_squared_error_min\", \"run_name\": \"MinMaxScaler, DecisionTree\", \"run_properties\": \"copy=True, feature_range=(0, 1\", \"primary_metric\": 0.2080267, \"best_metric\": 0.15128852}, {\"run_id\": \"AutoML_dd070e91-6e7a-4509-996d-5215e118b403_27\", \"run_number\": 30, \"metric\": null, \"status\": \"Completed\", \"run_type\": \"azureml.scriptrun\", \"training_percent\": \"100\", \"start_time\": \"2021-06-13T19:02:04.218958Z\", \"end_time\": \"2021-06-13T19:02:47.445219Z\", \"created_time\": \"2021-06-13T19:01:50.276017Z\", \"created_time_dt\": \"2021-06-13T19:01:50.276017Z\", \"duration\": \"0:00:57\", \"iteration\": \"27\", \"goal\": \"normalized_root_mean_squared_error_min\", \"run_name\": \"StandardScalerWrapper, LassoLars\", \"run_properties\": \"\\n    copy=True,\\n    with_mean=False,\\n    with_std=True\\n\", \"primary_metric\": 0.15149335, \"best_metric\": 0.15128852}, {\"run_id\": \"AutoML_dd070e91-6e7a-4509-996d-5215e118b403_28\", \"run_number\": 31, \"metric\": null, \"status\": \"Completed\", \"run_type\": \"azureml.scriptrun\", \"training_percent\": \"100\", \"start_time\": \"2021-06-13T19:02:09.671493Z\", \"end_time\": \"2021-06-13T19:02:51.643561Z\", \"created_time\": \"2021-06-13T19:01:59.90656Z\", \"created_time_dt\": \"2021-06-13T19:01:59.90656Z\", \"duration\": \"0:00:51\", \"iteration\": \"28\", \"goal\": \"normalized_root_mean_squared_error_min\", \"run_name\": \"MinMaxScaler, DecisionTree\", \"run_properties\": \"copy=True, feature_range=(0, 1\", \"primary_metric\": 0.2080267, \"best_metric\": 0.15128852}, {\"run_id\": \"AutoML_dd070e91-6e7a-4509-996d-5215e118b403_29\", \"run_number\": 32, \"metric\": null, \"status\": \"Completed\", \"run_type\": \"azureml.scriptrun\", \"training_percent\": \"100\", \"start_time\": \"2021-06-13T19:02:22.934451Z\", \"end_time\": \"2021-06-13T19:03:06.201748Z\", \"created_time\": \"2021-06-13T19:02:08.690482Z\", \"created_time_dt\": \"2021-06-13T19:02:08.690482Z\", \"duration\": \"0:00:57\", \"iteration\": \"29\", \"goal\": \"normalized_root_mean_squared_error_min\", \"run_name\": \"StandardScalerWrapper, DecisionTree\", \"run_properties\": \"\\n    copy=True,\\n    with_mean=True,\\n    with_std=False\\n\", \"primary_metric\": 0.2080267, \"best_metric\": 0.15128852}, {\"run_id\": \"AutoML_dd070e91-6e7a-4509-996d-5215e118b403_30\", \"run_number\": 33, \"metric\": null, \"status\": \"Completed\", \"run_type\": \"azureml.scriptrun\", \"training_percent\": \"100\", \"start_time\": \"2021-06-13T19:02:43.608342Z\", \"end_time\": \"2021-06-13T19:03:21.175075Z\", \"created_time\": \"2021-06-13T19:02:29.126892Z\", \"created_time_dt\": \"2021-06-13T19:02:29.126892Z\", \"duration\": \"0:00:52\", \"iteration\": \"30\", \"goal\": \"normalized_root_mean_squared_error_min\", \"run_name\": \"TruncatedSVDWrapper, ElasticNet\", \"run_properties\": \"n_components=0.5542105263157895, random_state=None\", \"primary_metric\": 0.32138189, \"best_metric\": 0.15128852}, {\"run_id\": \"AutoML_dd070e91-6e7a-4509-996d-5215e118b403_31\", \"run_number\": 34, \"metric\": null, \"status\": \"Completed\", \"run_type\": \"azureml.scriptrun\", \"training_percent\": \"100\", \"start_time\": \"2021-06-13T19:03:03.807841Z\", \"end_time\": \"2021-06-13T19:03:47.138066Z\", \"created_time\": \"2021-06-13T19:02:49.409168Z\", \"created_time_dt\": \"2021-06-13T19:02:49.409168Z\", \"duration\": \"0:00:57\", \"iteration\": \"31\", \"goal\": \"normalized_root_mean_squared_error_min\", \"run_name\": \"MinMaxScaler, RandomForest\", \"run_properties\": \"copy=True, feature_range=(0, 1\", \"primary_metric\": 0.17269907, \"best_metric\": 0.15128852}, {\"run_id\": \"AutoML_dd070e91-6e7a-4509-996d-5215e118b403_32\", \"run_number\": 35, \"metric\": null, \"status\": \"Completed\", \"run_type\": \"azureml.scriptrun\", \"training_percent\": \"100\", \"start_time\": \"2021-06-13T19:03:06.180172Z\", \"end_time\": \"2021-06-13T19:03:54.586238Z\", \"created_time\": \"2021-06-13T19:02:54.265912Z\", \"created_time_dt\": \"2021-06-13T19:02:54.265912Z\", \"duration\": \"0:01:00\", \"iteration\": \"32\", \"goal\": \"normalized_root_mean_squared_error_min\", \"run_name\": \"MinMaxScaler, DecisionTree\", \"run_properties\": \"copy=True, feature_range=(0, 1\", \"primary_metric\": 0.2080267, \"best_metric\": 0.15128852}, {\"run_id\": \"AutoML_dd070e91-6e7a-4509-996d-5215e118b403_33\", \"run_number\": 36, \"metric\": null, \"status\": \"Canceled\", \"run_type\": \"azureml.scriptrun\", \"training_percent\": \"100\", \"start_time\": \"2021-06-13T19:03:18.480726Z\", \"end_time\": \"2021-06-13T19:04:00.856731Z\", \"created_time\": \"2021-06-13T19:03:07.97662Z\", \"created_time_dt\": \"2021-06-13T19:03:07.97662Z\", \"duration\": \"0:00:52\", \"iteration\": \"33\", \"goal\": \"normalized_root_mean_squared_error_min\", \"run_name\": \"MaxAbsScaler, RandomForest\", \"run_properties\": \"copy=True\", \"primary_metric\": 0.19702407, \"best_metric\": 0.15128852}, {\"run_id\": \"AutoML_dd070e91-6e7a-4509-996d-5215e118b403_34\", \"run_number\": 37, \"metric\": null, \"status\": \"Canceled\", \"run_type\": \"azureml.scriptrun\", \"training_percent\": \"100\", \"start_time\": \"2021-06-13T19:03:37.108527Z\", \"end_time\": \"2021-06-13T19:04:00.833754Z\", \"created_time\": \"2021-06-13T19:03:22.890517Z\", \"created_time_dt\": \"2021-06-13T19:03:22.890517Z\", \"duration\": \"0:00:37\", \"iteration\": \"34\", \"goal\": \"normalized_root_mean_squared_error_min\", \"run_name\": \"StandardScalerWrapper, RandomForest\", \"run_properties\": \"\\n    copy=True,\\n    with_mean=True,\\n    with_std=False\\n\", \"primary_metric\": 0.17400042, \"best_metric\": 0.15128852}, {\"run_id\": \"AutoML_dd070e91-6e7a-4509-996d-5215e118b403_35\", \"run_number\": 38, \"metric\": null, \"status\": \"Canceled\", \"run_type\": \"azureml.scriptrun\", \"training_percent\": \"100\", \"start_time\": \"2021-06-13T19:03:51.123899Z\", \"end_time\": \"2021-06-13T19:04:06.363928Z\", \"created_time\": \"2021-06-13T19:03:51.123899Z\", \"created_time_dt\": \"2021-06-13T19:03:51.123899Z\", \"duration\": \"0:00:15\", \"iteration\": \"35\", \"goal\": null, \"run_name\": \"Canceled\", \"run_properties\": null}, {\"run_id\": \"AutoML_dd070e91-6e7a-4509-996d-5215e118b403_36\", \"run_number\": 39, \"metric\": null, \"status\": \"Completed\", \"run_type\": \"azureml.scriptrun\", \"training_percent\": \"100\", \"start_time\": \"2021-06-13T19:04:14.666328Z\", \"end_time\": \"2021-06-13T19:05:13.199626Z\", \"created_time\": \"2021-06-13T19:04:07.12603Z\", \"created_time_dt\": \"2021-06-13T19:04:07.12603Z\", \"duration\": \"0:01:06\", \"iteration\": \"36\", \"goal\": \"normalized_root_mean_squared_error_min\", \"run_name\": \"VotingEnsemble\", \"run_properties\": \"\\n    estimators=[('13', Pipeline(memory=None,\\n             steps=[('minmaxscaler', MinMaxScaler(copy=True, feature_range=(0, 1\", \"primary_metric\": 0.14213013, \"best_metric\": 0.14213013}], \"children_metrics\": {\"categories\": [0], \"series\": {\"spearman_correlation\": [{\"categories\": [\"0\", \"1\", \"2\", \"3\", \"4\", \"5\", \"6\", \"7\", \"8\", \"9\", \"10\", \"11\", \"12\", \"13\", \"14\", \"15\", \"16\", \"17\", \"18\", \"19\", \"20\", \"21\", \"22\", \"23\", \"24\", \"25\", \"26\", \"27\", \"28\", \"29\", \"30\", \"31\", \"32\", \"33\", \"34\", \"36\"], \"mode\": \"markers\", \"name\": \"spearman_correlation\", \"stepped\": false, \"type\": \"scatter\", \"data\": [-1.0, -1.0, -1.0, -1.0, -1.0, -1.0, -1.0, -1.0, -1.0, -1.0, -1.0, -1.0, -1.0, -1.0, -1.0, -1.0, -1.0, -1.0, -1.0, -1.0, -1.0, -1.0, -1.0, -1.0, -1.0, -1.0, -1.0, -1.0, -1.0, -1.0, -1.0, -1.0, -1.0, -1.0, -1.0, -1.0]}, {\"categories\": [\"0\", \"1\", \"2\", \"3\", \"4\", \"5\", \"6\", \"7\", \"8\", \"9\", \"10\", \"11\", \"12\", \"13\", \"14\", \"15\", \"16\", \"17\", \"18\", \"19\", \"20\", \"21\", \"22\", \"23\", \"24\", \"25\", \"26\", \"27\", \"28\", \"29\", \"30\", \"31\", \"32\", \"33\", \"34\", \"36\"], \"mode\": \"lines\", \"name\": \"spearman_correlation_max\", \"stepped\": true, \"type\": \"scatter\", \"data\": [-1.0, -1.0, -1.0, -1.0, -1.0, -1.0, -1.0, -1.0, -1.0, -1.0, -1.0, -1.0, -1.0, -1.0, -1.0, -1.0, -1.0, -1.0, -1.0, -1.0, -1.0, -1.0, -1.0, -1.0, -1.0, -1.0, -1.0, -1.0, -1.0, -1.0, -1.0, -1.0, -1.0, -1.0, -1.0, -1.0]}], \"median_absolute_error\": [{\"categories\": [\"0\", \"1\", \"2\", \"3\", \"4\", \"5\", \"6\", \"7\", \"8\", \"9\", \"10\", \"11\", \"12\", \"13\", \"14\", \"15\", \"16\", \"17\", \"18\", \"19\", \"20\", \"21\", \"22\", \"23\", \"24\", \"25\", \"26\", \"27\", \"28\", \"29\", \"30\", \"31\", \"32\", \"33\", \"34\", \"36\"], \"mode\": \"markers\", \"name\": \"median_absolute_error\", \"stepped\": false, \"type\": \"scatter\", \"data\": [3.135721725488139, 3.93027044653316, 3.1144805908203126, 3.831524658203125, 4.737779492629682, 3.713901192801342, 3.233625785548509, 2.2680937386078255, 2.5707763671875, 3.1144805908203126, 3.1144805908203126, 2.2761020548989506, 2.535308837890625, 2.265022540873116, 2.5707763671875, 3.354815673828125, 3.1144805908203126, 2.2681958951458854, 3.1144805908203126, 3.1144805908203126, 3.4454315185546873, 2.5707763671875, 3.1144805908203126, 3.1144805908203126, 3.1144805908203126, 4.8115826130864665, 3.1144805908203126, 2.268089151183136, 3.1144805908203126, 3.1144805908203126, 4.8115826130864665, 2.5855713806152325, 3.1144805908203126, 2.9497541961669924, 2.6050546264648404, 2.1279072369626704]}, {\"categories\": [\"0\", \"1\", \"2\", \"3\", \"4\", \"5\", \"6\", \"7\", \"8\", \"9\", \"10\", \"11\", \"12\", \"13\", \"14\", \"15\", \"16\", \"17\", \"18\", \"19\", \"20\", \"21\", \"22\", \"23\", \"24\", \"25\", \"26\", \"27\", \"28\", \"29\", \"30\", \"31\", \"32\", \"33\", \"34\", \"36\"], \"mode\": \"lines\", \"name\": \"median_absolute_error_min\", \"stepped\": true, \"type\": \"scatter\", \"data\": [3.135721725488139, 3.135721725488139, 3.1144805908203126, 3.1144805908203126, 3.1144805908203126, 3.1144805908203126, 3.1144805908203126, 2.2680937386078255, 2.2680937386078255, 2.2680937386078255, 2.2680937386078255, 2.2680937386078255, 2.2680937386078255, 2.265022540873116, 2.265022540873116, 2.265022540873116, 2.265022540873116, 2.265022540873116, 2.265022540873116, 2.265022540873116, 2.265022540873116, 2.265022540873116, 2.265022540873116, 2.265022540873116, 2.265022540873116, 2.265022540873116, 2.265022540873116, 2.265022540873116, 2.265022540873116, 2.265022540873116, 2.265022540873116, 2.265022540873116, 2.265022540873116, 2.265022540873116, 2.265022540873116, 2.1279072369626704]}], \"explained_variance\": [{\"categories\": [\"0\", \"1\", \"2\", \"3\", \"4\", \"5\", \"6\", \"7\", \"8\", \"9\", \"10\", \"11\", \"12\", \"13\", \"14\", \"15\", \"16\", \"17\", \"18\", \"19\", \"20\", \"21\", \"22\", \"23\", \"24\", \"25\", \"26\", \"27\", \"28\", \"29\", \"30\", \"31\", \"32\", \"33\", \"34\", \"36\"], \"mode\": \"markers\", \"name\": \"explained_variance\", \"stepped\": false, \"type\": \"scatter\", \"data\": [1.0, 1.0, 1.0, 1.0, 1.0, 1.0, 1.0, 1.0, 1.0, 1.0, 1.0, 1.0, 1.0, 1.0, 1.0, 1.0, 1.0, 1.0, 1.0, 1.0, 1.0, 1.0, 1.0, 1.0, 1.0, 1.0, 1.0, 1.0, 1.0, 1.0, 1.0, 1.0, 1.0, 1.0, 1.0, 1.0]}, {\"categories\": [\"0\", \"1\", \"2\", \"3\", \"4\", \"5\", \"6\", \"7\", \"8\", \"9\", \"10\", \"11\", \"12\", \"13\", \"14\", \"15\", \"16\", \"17\", \"18\", \"19\", \"20\", \"21\", \"22\", \"23\", \"24\", \"25\", \"26\", \"27\", \"28\", \"29\", \"30\", \"31\", \"32\", \"33\", \"34\", \"36\"], \"mode\": \"lines\", \"name\": \"explained_variance_max\", \"stepped\": true, \"type\": \"scatter\", \"data\": [1.0, 1.0, 1.0, 1.0, 1.0, 1.0, 1.0, 1.0, 1.0, 1.0, 1.0, 1.0, 1.0, 1.0, 1.0, 1.0, 1.0, 1.0, 1.0, 1.0, 1.0, 1.0, 1.0, 1.0, 1.0, 1.0, 1.0, 1.0, 1.0, 1.0, 1.0, 1.0, 1.0, 1.0, 1.0, 1.0]}], \"root_mean_squared_log_error\": [{\"categories\": [\"0\", \"1\", \"2\", \"3\", \"4\", \"5\", \"6\", \"7\", \"8\", \"9\", \"10\", \"11\", \"12\", \"13\", \"14\", \"15\", \"16\", \"17\", \"18\", \"19\", \"20\", \"21\", \"22\", \"23\", \"24\", \"25\", \"26\", \"27\", \"28\", \"29\", \"30\", \"31\", \"32\", \"33\", \"34\", \"36\"], \"mode\": \"markers\", \"name\": \"root_mean_squared_log_error\", \"stepped\": false, \"type\": \"scatter\", \"data\": [0.018883295301634285, 0.02390516342714317, 0.01877199848204114, 0.023104587008642773, 0.0286850978985262, 0.02239371952421134, 0.019497721947337076, 0.013676117080806804, 0.015419860801544161, 0.01877199848204114, 0.01877199848204114, 0.013725555250111298, 0.01520271456461142, 0.013657948829529332, 0.015419860801544161, 0.02023465621539433, 0.01877199848204114, 0.013676620218278045, 0.01877199848204114, 0.01877199848204114, 0.020785261813721156, 0.015419860801544161, 0.01877199848204114, 0.01877199848204114, 0.01877199848204114, 0.02914214521995273, 0.01877199848204114, 0.013676003571880101, 0.01877199848204114, 0.01877199848204114, 0.02914214521995273, 0.015588779710282098, 0.01877199848204114, 0.017747945083873694, 0.0156664716443089, 0.012822532368185157]}, {\"categories\": [\"0\", \"1\", \"2\", \"3\", \"4\", \"5\", \"6\", \"7\", \"8\", \"9\", \"10\", \"11\", \"12\", \"13\", \"14\", \"15\", \"16\", \"17\", \"18\", \"19\", \"20\", \"21\", \"22\", \"23\", \"24\", \"25\", \"26\", \"27\", \"28\", \"29\", \"30\", \"31\", \"32\", \"33\", \"34\", \"36\"], \"mode\": \"lines\", \"name\": \"root_mean_squared_log_error_min\", \"stepped\": true, \"type\": \"scatter\", \"data\": [0.018883295301634285, 0.018883295301634285, 0.01877199848204114, 0.01877199848204114, 0.01877199848204114, 0.01877199848204114, 0.01877199848204114, 0.013676117080806804, 0.013676117080806804, 0.013676117080806804, 0.013676117080806804, 0.013676117080806804, 0.013676117080806804, 0.013657948829529332, 0.013657948829529332, 0.013657948829529332, 0.013657948829529332, 0.013657948829529332, 0.013657948829529332, 0.013657948829529332, 0.013657948829529332, 0.013657948829529332, 0.013657948829529332, 0.013657948829529332, 0.013657948829529332, 0.013657948829529332, 0.013657948829529332, 0.013657948829529332, 0.013657948829529332, 0.013657948829529332, 0.013657948829529332, 0.013657948829529332, 0.013657948829529332, 0.013657948829529332, 0.013657948829529332, 0.012822532368185157]}], \"mean_absolute_error\": [{\"categories\": [\"0\", \"1\", \"2\", \"3\", \"4\", \"5\", \"6\", \"7\", \"8\", \"9\", \"10\", \"11\", \"12\", \"13\", \"14\", \"15\", \"16\", \"17\", \"18\", \"19\", \"20\", \"21\", \"22\", \"23\", \"24\", \"25\", \"26\", \"27\", \"28\", \"29\", \"30\", \"31\", \"32\", \"33\", \"34\", \"36\"], \"mode\": \"markers\", \"name\": \"mean_absolute_error\", \"stepped\": false, \"type\": \"scatter\", \"data\": [3.135721725488139, 3.93027044653316, 3.1144805908203126, 3.831524658203125, 4.737779492629682, 3.713901192801342, 3.233625785548509, 2.2680937386078255, 2.5707763671875, 3.1144805908203126, 3.1144805908203126, 2.2761020548989506, 2.535308837890625, 2.265022540873116, 2.5707763671875, 3.354815673828125, 3.1144805908203126, 2.2681958951458854, 3.1144805908203126, 3.1144805908203126, 3.4454315185546873, 2.5707763671875, 3.1144805908203126, 3.1144805908203126, 3.1144805908203126, 4.8115826130864665, 3.1144805908203126, 2.268089151183136, 3.1144805908203126, 3.1144805908203126, 4.8115826130864665, 2.5855713806152325, 3.1144805908203126, 2.9497541961669924, 2.6050546264648404, 2.1279072369626704]}, {\"categories\": [\"0\", \"1\", \"2\", \"3\", \"4\", \"5\", \"6\", \"7\", \"8\", \"9\", \"10\", \"11\", \"12\", \"13\", \"14\", \"15\", \"16\", \"17\", \"18\", \"19\", \"20\", \"21\", \"22\", \"23\", \"24\", \"25\", \"26\", \"27\", \"28\", \"29\", \"30\", \"31\", \"32\", \"33\", \"34\", \"36\"], \"mode\": \"lines\", \"name\": \"mean_absolute_error_min\", \"stepped\": true, \"type\": \"scatter\", \"data\": [3.135721725488139, 3.135721725488139, 3.1144805908203126, 3.1144805908203126, 3.1144805908203126, 3.1144805908203126, 3.1144805908203126, 2.2680937386078255, 2.2680937386078255, 2.2680937386078255, 2.2680937386078255, 2.2680937386078255, 2.2680937386078255, 2.265022540873116, 2.265022540873116, 2.265022540873116, 2.265022540873116, 2.265022540873116, 2.265022540873116, 2.265022540873116, 2.265022540873116, 2.265022540873116, 2.265022540873116, 2.265022540873116, 2.265022540873116, 2.265022540873116, 2.265022540873116, 2.265022540873116, 2.265022540873116, 2.265022540873116, 2.265022540873116, 2.265022540873116, 2.265022540873116, 2.265022540873116, 2.265022540873116, 2.1279072369626704]}], \"r2_score\": [{\"categories\": [\"0\", \"1\", \"2\", \"3\", \"4\", \"5\", \"6\", \"7\", \"8\", \"9\", \"10\", \"11\", \"12\", \"13\", \"14\", \"15\", \"16\", \"17\", \"18\", \"19\", \"20\", \"21\", \"22\", \"23\", \"24\", \"25\", \"26\", \"27\", \"28\", \"29\", \"30\", \"31\", \"32\", \"33\", \"34\", \"36\"], \"mode\": \"markers\", \"name\": \"r2_score\", \"stepped\": false, \"type\": \"scatter\", \"data\": [0.0, 0.0, 0.0, 0.0, 0.0, 0.0, 0.0, 0.0, 0.0, 0.0, 0.0, 0.0, 0.0, 0.0, 0.0, 0.0, 0.0, 0.0, 0.0, 0.0, 0.0, 0.0, 0.0, 0.0, 0.0, 0.0, 0.0, 0.0, 0.0, 0.0, 0.0, 0.0, 0.0, 0.0, 0.0, 0.0]}, {\"categories\": [\"0\", \"1\", \"2\", \"3\", \"4\", \"5\", \"6\", \"7\", \"8\", \"9\", \"10\", \"11\", \"12\", \"13\", \"14\", \"15\", \"16\", \"17\", \"18\", \"19\", \"20\", \"21\", \"22\", \"23\", \"24\", \"25\", \"26\", \"27\", \"28\", \"29\", \"30\", \"31\", \"32\", \"33\", \"34\", \"36\"], \"mode\": \"lines\", \"name\": \"r2_score_max\", \"stepped\": true, \"type\": \"scatter\", \"data\": [0.0, 0.0, 0.0, 0.0, 0.0, 0.0, 0.0, 0.0, 0.0, 0.0, 0.0, 0.0, 0.0, 0.0, 0.0, 0.0, 0.0, 0.0, 0.0, 0.0, 0.0, 0.0, 0.0, 0.0, 0.0, 0.0, 0.0, 0.0, 0.0, 0.0, 0.0, 0.0, 0.0, 0.0, 0.0, 0.0]}], \"normalized_root_mean_squared_log_error\": [{\"categories\": [\"0\", \"1\", \"2\", \"3\", \"4\", \"5\", \"6\", \"7\", \"8\", \"9\", \"10\", \"11\", \"12\", \"13\", \"14\", \"15\", \"16\", \"17\", \"18\", \"19\", \"20\", \"21\", \"22\", \"23\", \"24\", \"25\", \"26\", \"27\", \"28\", \"29\", \"30\", \"31\", \"32\", \"33\", \"34\", \"36\"], \"mode\": \"markers\", \"name\": \"normalized_root_mean_squared_log_error\", \"stepped\": false, \"type\": \"scatter\", \"data\": [0.20632391121130844, 0.2611941791752227, 0.20510785253314703, 0.2524468681127172, 0.3134210156312596, 0.2446797407444266, 0.21303730030303508, 0.14942889581627378, 0.16848150389477762, 0.20510785253314703, 0.20510785253314703, 0.14996907041456795, 0.16610890630557912, 0.14923038466641567, 0.16848150389477762, 0.2210892402882164, 0.20510785253314703, 0.1494343932302201, 0.20510785253314703, 0.20510785253314703, 0.2271053036271084, 0.16848150389477762, 0.20510785253314703, 0.20510785253314703, 0.20510785253314703, 0.318414836331464, 0.20510785253314703, 0.14942765558752452, 0.20510785253314703, 0.20510785253314703, 0.318414836331464, 0.17032715685797314, 0.20510785253314703, 0.19391877250108017, 0.17117603961079403, 0.1401024020213567]}, {\"categories\": [\"0\", \"1\", \"2\", \"3\", \"4\", \"5\", \"6\", \"7\", \"8\", \"9\", \"10\", \"11\", \"12\", \"13\", \"14\", \"15\", \"16\", \"17\", \"18\", \"19\", \"20\", \"21\", \"22\", \"23\", \"24\", \"25\", \"26\", \"27\", \"28\", \"29\", \"30\", \"31\", \"32\", \"33\", \"34\", \"36\"], \"mode\": \"lines\", \"name\": \"normalized_root_mean_squared_log_error_min\", \"stepped\": true, \"type\": \"scatter\", \"data\": [0.20632391121130844, 0.20632391121130844, 0.20510785253314703, 0.20510785253314703, 0.20510785253314703, 0.20510785253314703, 0.20510785253314703, 0.14942889581627378, 0.14942889581627378, 0.14942889581627378, 0.14942889581627378, 0.14942889581627378, 0.14942889581627378, 0.14923038466641567, 0.14923038466641567, 0.14923038466641567, 0.14923038466641567, 0.14923038466641567, 0.14923038466641567, 0.14923038466641567, 0.14923038466641567, 0.14923038466641567, 0.14923038466641567, 0.14923038466641567, 0.14923038466641567, 0.14923038466641567, 0.14923038466641567, 0.14923038466641567, 0.14923038466641567, 0.14923038466641567, 0.14923038466641567, 0.14923038466641567, 0.14923038466641567, 0.14923038466641567, 0.14923038466641567, 0.1401024020213567]}], \"normalized_root_mean_squared_error\": [{\"categories\": [\"0\", \"1\", \"2\", \"3\", \"4\", \"5\", \"6\", \"7\", \"8\", \"9\", \"10\", \"11\", \"12\", \"13\", \"14\", \"15\", \"16\", \"17\", \"18\", \"19\", \"20\", \"21\", \"22\", \"23\", \"24\", \"25\", \"26\", \"27\", \"28\", \"29\", \"30\", \"31\", \"32\", \"33\", \"34\", \"36\"], \"mode\": \"markers\", \"name\": \"normalized_root_mean_squared_error\", \"stepped\": false, \"type\": \"scatter\", \"data\": [0.20944546997384839, 0.26251606898259455, 0.20802670267791168, 0.25592050347797285, 0.31645233197847356, 0.24806403401169894, 0.21598481359768346, 0.15149365939144646, 0.17171085688078067, 0.20802670267791168, 0.20802670267791168, 0.15202856194853887, 0.16934186052437128, 0.15128852369726148, 0.17171085688078067, 0.22407949652202713, 0.20802670267791168, 0.15150048277247252, 0.20802670267791168, 0.20802670267791168, 0.23013203556959766, 0.17171085688078067, 0.20802670267791168, 0.20802670267791168, 0.20802670267791168, 0.3213818922528954, 0.20802670267791168, 0.15149335298182082, 0.20802670267791168, 0.20802670267791168, 0.3213818922528954, 0.17269906591586603, 0.20802670267791168, 0.197024069100823, 0.1740004178663335, 0.14213012834773164]}, {\"categories\": [\"0\", \"1\", \"2\", \"3\", \"4\", \"5\", \"6\", \"7\", \"8\", \"9\", \"10\", \"11\", \"12\", \"13\", \"14\", \"15\", \"16\", \"17\", \"18\", \"19\", \"20\", \"21\", \"22\", \"23\", \"24\", \"25\", \"26\", \"27\", \"28\", \"29\", \"30\", \"31\", \"32\", \"33\", \"34\", \"36\"], \"mode\": \"lines\", \"name\": \"normalized_root_mean_squared_error_min\", \"stepped\": true, \"type\": \"scatter\", \"data\": [0.20944546997384839, 0.20944546997384839, 0.20802670267791168, 0.20802670267791168, 0.20802670267791168, 0.20802670267791168, 0.20802670267791168, 0.15149365939144646, 0.15149365939144646, 0.15149365939144646, 0.15149365939144646, 0.15149365939144646, 0.15149365939144646, 0.15128852369726148, 0.15128852369726148, 0.15128852369726148, 0.15128852369726148, 0.15128852369726148, 0.15128852369726148, 0.15128852369726148, 0.15128852369726148, 0.15128852369726148, 0.15128852369726148, 0.15128852369726148, 0.15128852369726148, 0.15128852369726148, 0.15128852369726148, 0.15128852369726148, 0.15128852369726148, 0.15128852369726148, 0.15128852369726148, 0.15128852369726148, 0.15128852369726148, 0.15128852369726148, 0.15128852369726148, 0.14213012834773164]}], \"normalized_mean_absolute_error\": [{\"categories\": [\"0\", \"1\", \"2\", \"3\", \"4\", \"5\", \"6\", \"7\", \"8\", \"9\", \"10\", \"11\", \"12\", \"13\", \"14\", \"15\", \"16\", \"17\", \"18\", \"19\", \"20\", \"21\", \"22\", \"23\", \"24\", \"25\", \"26\", \"27\", \"28\", \"29\", \"30\", \"31\", \"32\", \"33\", \"34\", \"36\"], \"mode\": \"markers\", \"name\": \"normalized_mean_absolute_error\", \"stepped\": false, \"type\": \"scatter\", \"data\": [0.20944546997384839, 0.26251606898259455, 0.20802670267791168, 0.25592050347797285, 0.31645233197847356, 0.24806403401169894, 0.21598481359768346, 0.15149365939144646, 0.17171085688078067, 0.20802670267791168, 0.20802670267791168, 0.15202856194853887, 0.16934186052437128, 0.15128852369726148, 0.17171085688078067, 0.22407949652202713, 0.20802670267791168, 0.15150048277247252, 0.20802670267791168, 0.20802670267791168, 0.23013203556959766, 0.17171085688078067, 0.20802670267791168, 0.20802670267791168, 0.20802670267791168, 0.3213818922528954, 0.20802670267791168, 0.15149335298182082, 0.20802670267791168, 0.20802670267791168, 0.3213818922528954, 0.17269906591586603, 0.20802670267791168, 0.197024069100823, 0.1740004178663335, 0.14213012834773164]}, {\"categories\": [\"0\", \"1\", \"2\", \"3\", \"4\", \"5\", \"6\", \"7\", \"8\", \"9\", \"10\", \"11\", \"12\", \"13\", \"14\", \"15\", \"16\", \"17\", \"18\", \"19\", \"20\", \"21\", \"22\", \"23\", \"24\", \"25\", \"26\", \"27\", \"28\", \"29\", \"30\", \"31\", \"32\", \"33\", \"34\", \"36\"], \"mode\": \"lines\", \"name\": \"normalized_mean_absolute_error_min\", \"stepped\": true, \"type\": \"scatter\", \"data\": [0.20944546997384839, 0.20944546997384839, 0.20802670267791168, 0.20802670267791168, 0.20802670267791168, 0.20802670267791168, 0.20802670267791168, 0.15149365939144646, 0.15149365939144646, 0.15149365939144646, 0.15149365939144646, 0.15149365939144646, 0.15149365939144646, 0.15128852369726148, 0.15128852369726148, 0.15128852369726148, 0.15128852369726148, 0.15128852369726148, 0.15128852369726148, 0.15128852369726148, 0.15128852369726148, 0.15128852369726148, 0.15128852369726148, 0.15128852369726148, 0.15128852369726148, 0.15128852369726148, 0.15128852369726148, 0.15128852369726148, 0.15128852369726148, 0.15128852369726148, 0.15128852369726148, 0.15128852369726148, 0.15128852369726148, 0.15128852369726148, 0.15128852369726148, 0.14213012834773164]}], \"mean_absolute_percentage_error\": [{\"categories\": [\"0\", \"1\", \"2\", \"3\", \"4\", \"5\", \"6\", \"7\", \"8\", \"9\", \"10\", \"11\", \"12\", \"13\", \"14\", \"15\", \"16\", \"17\", \"18\", \"19\", \"20\", \"21\", \"22\", \"23\", \"24\", \"25\", \"26\", \"27\", \"28\", \"29\", \"30\", \"31\", \"32\", \"33\", \"34\", \"36\"], \"mode\": \"markers\", \"name\": \"mean_absolute_percentage_error\", \"stepped\": false, \"type\": \"scatter\", \"data\": [1.8936707031123443, 2.3808221322857706, 1.87987943020917, 2.3094801622427603, 2.828450743643706, 2.231752321008768, 1.9516504906400365, 1.3788149368620286, 1.5462633724611088, 1.87987943020917, 1.87987943020917, 1.3829342019180548, 1.5245005521853585, 1.3768588159423127, 1.5462633724611088, 2.0312522570031613, 1.87987943020917, 1.3788993516395762, 1.87987943020917, 1.87987943020917, 2.086929768590015, 1.5462633724611088, 1.87987943020917, 1.87987943020917, 1.87987943020917, 2.8730325570548656, 1.87987943020917, 1.3788246923496001, 1.87987943020917, 1.87987943020917, 2.8730325570548656, 1.5607049087675646, 1.87987943020917, 1.7792737405900803, 1.5700234566299565, 1.2909211017002795]}, {\"categories\": [\"0\", \"1\", \"2\", \"3\", \"4\", \"5\", \"6\", \"7\", \"8\", \"9\", \"10\", \"11\", \"12\", \"13\", \"14\", \"15\", \"16\", \"17\", \"18\", \"19\", \"20\", \"21\", \"22\", \"23\", \"24\", \"25\", \"26\", \"27\", \"28\", \"29\", \"30\", \"31\", \"32\", \"33\", \"34\", \"36\"], \"mode\": \"lines\", \"name\": \"mean_absolute_percentage_error_min\", \"stepped\": true, \"type\": \"scatter\", \"data\": [1.8936707031123443, 1.8936707031123443, 1.87987943020917, 1.87987943020917, 1.87987943020917, 1.87987943020917, 1.87987943020917, 1.3788149368620286, 1.3788149368620286, 1.3788149368620286, 1.3788149368620286, 1.3788149368620286, 1.3788149368620286, 1.3768588159423127, 1.3768588159423127, 1.3768588159423127, 1.3768588159423127, 1.3768588159423127, 1.3768588159423127, 1.3768588159423127, 1.3768588159423127, 1.3768588159423127, 1.3768588159423127, 1.3768588159423127, 1.3768588159423127, 1.3768588159423127, 1.3768588159423127, 1.3768588159423127, 1.3768588159423127, 1.3768588159423127, 1.3768588159423127, 1.3768588159423127, 1.3768588159423127, 1.3768588159423127, 1.3768588159423127, 1.2909211017002795]}], \"normalized_median_absolute_error\": [{\"categories\": [\"0\", \"1\", \"2\", \"3\", \"4\", \"5\", \"6\", \"7\", \"8\", \"9\", \"10\", \"11\", \"12\", \"13\", \"14\", \"15\", \"16\", \"17\", \"18\", \"19\", \"20\", \"21\", \"22\", \"23\", \"24\", \"25\", \"26\", \"27\", \"28\", \"29\", \"30\", \"31\", \"32\", \"33\", \"34\", \"36\"], \"mode\": \"markers\", \"name\": \"normalized_median_absolute_error\", \"stepped\": false, \"type\": \"scatter\", \"data\": [0.20944546997384839, 0.26251606898259455, 0.20802670267791168, 0.25592050347797285, 0.31645233197847356, 0.24806403401169894, 0.21598481359768346, 0.15149365939144646, 0.17171085688078067, 0.20802670267791168, 0.20802670267791168, 0.15202856194853887, 0.16934186052437128, 0.15128852369726148, 0.17171085688078067, 0.22407949652202713, 0.20802670267791168, 0.15150048277247252, 0.20802670267791168, 0.20802670267791168, 0.23013203556959766, 0.17171085688078067, 0.20802670267791168, 0.20802670267791168, 0.20802670267791168, 0.3213818922528954, 0.20802670267791168, 0.15149335298182082, 0.20802670267791168, 0.20802670267791168, 0.3213818922528954, 0.17269906591586603, 0.20802670267791168, 0.197024069100823, 0.1740004178663335, 0.14213012834773164]}, {\"categories\": [\"0\", \"1\", \"2\", \"3\", \"4\", \"5\", \"6\", \"7\", \"8\", \"9\", \"10\", \"11\", \"12\", \"13\", \"14\", \"15\", \"16\", \"17\", \"18\", \"19\", \"20\", \"21\", \"22\", \"23\", \"24\", \"25\", \"26\", \"27\", \"28\", \"29\", \"30\", \"31\", \"32\", \"33\", \"34\", \"36\"], \"mode\": \"lines\", \"name\": \"normalized_median_absolute_error_min\", \"stepped\": true, \"type\": \"scatter\", \"data\": [0.20944546997384839, 0.20944546997384839, 0.20802670267791168, 0.20802670267791168, 0.20802670267791168, 0.20802670267791168, 0.20802670267791168, 0.15149365939144646, 0.15149365939144646, 0.15149365939144646, 0.15149365939144646, 0.15149365939144646, 0.15149365939144646, 0.15128852369726148, 0.15128852369726148, 0.15128852369726148, 0.15128852369726148, 0.15128852369726148, 0.15128852369726148, 0.15128852369726148, 0.15128852369726148, 0.15128852369726148, 0.15128852369726148, 0.15128852369726148, 0.15128852369726148, 0.15128852369726148, 0.15128852369726148, 0.15128852369726148, 0.15128852369726148, 0.15128852369726148, 0.15128852369726148, 0.15128852369726148, 0.15128852369726148, 0.15128852369726148, 0.15128852369726148, 0.14213012834773164]}], \"root_mean_squared_error\": [{\"categories\": [\"0\", \"1\", \"2\", \"3\", \"4\", \"5\", \"6\", \"7\", \"8\", \"9\", \"10\", \"11\", \"12\", \"13\", \"14\", \"15\", \"16\", \"17\", \"18\", \"19\", \"20\", \"21\", \"22\", \"23\", \"24\", \"25\", \"26\", \"27\", \"28\", \"29\", \"30\", \"31\", \"32\", \"33\", \"34\", \"36\"], \"mode\": \"markers\", \"name\": \"root_mean_squared_error\", \"stepped\": false, \"type\": \"scatter\", \"data\": [3.135721725488139, 3.93027044653316, 3.1144805908203126, 3.831524658203125, 4.737779492629682, 3.713901192801342, 3.233625785548509, 2.2680937386078255, 2.5707763671875, 3.1144805908203126, 3.1144805908203126, 2.2761020548989506, 2.535308837890625, 2.265022540873116, 2.5707763671875, 3.354815673828125, 3.1144805908203126, 2.2681958951458854, 3.1144805908203126, 3.1144805908203126, 3.4454315185546873, 2.5707763671875, 3.1144805908203126, 3.1144805908203126, 3.1144805908203126, 4.8115826130864665, 3.1144805908203126, 2.268089151183136, 3.1144805908203126, 3.1144805908203126, 4.8115826130864665, 2.5855713806152325, 3.1144805908203126, 2.9497541961669924, 2.6050546264648404, 2.1279072369626704]}, {\"categories\": [\"0\", \"1\", \"2\", \"3\", \"4\", \"5\", \"6\", \"7\", \"8\", \"9\", \"10\", \"11\", \"12\", \"13\", \"14\", \"15\", \"16\", \"17\", \"18\", \"19\", \"20\", \"21\", \"22\", \"23\", \"24\", \"25\", \"26\", \"27\", \"28\", \"29\", \"30\", \"31\", \"32\", \"33\", \"34\", \"36\"], \"mode\": \"lines\", \"name\": \"root_mean_squared_error_min\", \"stepped\": true, \"type\": \"scatter\", \"data\": [3.135721725488139, 3.135721725488139, 3.1144805908203126, 3.1144805908203126, 3.1144805908203126, 3.1144805908203126, 3.1144805908203126, 2.2680937386078255, 2.2680937386078255, 2.2680937386078255, 2.2680937386078255, 2.2680937386078255, 2.2680937386078255, 2.265022540873116, 2.265022540873116, 2.265022540873116, 2.265022540873116, 2.265022540873116, 2.265022540873116, 2.265022540873116, 2.265022540873116, 2.265022540873116, 2.265022540873116, 2.265022540873116, 2.265022540873116, 2.265022540873116, 2.265022540873116, 2.265022540873116, 2.265022540873116, 2.265022540873116, 2.265022540873116, 2.265022540873116, 2.265022540873116, 2.265022540873116, 2.265022540873116, 2.1279072369626704]}]}, \"metricName\": null, \"primaryMetricName\": \"normalized_root_mean_squared_error\", \"showLegend\": false}, \"run_metrics\": [{\"name\": \"experiment_status\", \"run_id\": \"AutoML_dd070e91-6e7a-4509-996d-5215e118b403\", \"categories\": [0, 1, 2, 3, 4, 5, 6, 7, 8, 9, 10, 11, 12, 13, 14, 15, 16, 17, 18, 19, 20, 21], \"series\": [{\"data\": [\"DatasetFeaturization\", \"DatasetFeaturizationCompleted\", \"DatasetCrossValidationSplit\", \"DatasetFeaturization\", \"DatasetFeaturizationCompleted\", \"DatasetFeaturization\", \"DatasetFeaturizationCompleted\", \"DatasetFeaturization\", \"DatasetFeaturizationCompleted\", \"DatasetFeaturization\", \"DatasetFeaturizationCompleted\", \"DatasetFeaturization\", \"DatasetFeaturizationCompleted\", \"ModelSelection\", \"BestRunExplainModel\", \"ModelExplanationDataSetSetup\", \"PickSurrogateModel\", \"EngineeredFeatureExplanations\", \"EngineeredFeatureExplanations\", \"RawFeaturesExplanations\", \"RawFeaturesExplanations\", \"BestRunExplainModel\"]}]}, {\"name\": \"experiment_status_description\", \"run_id\": \"AutoML_dd070e91-6e7a-4509-996d-5215e118b403\", \"categories\": [0, 1, 2, 3, 4, 5, 6, 7, 8, 9, 10, 11, 12, 13, 14, 15, 16, 17, 18, 19, 20, 21], \"series\": [{\"data\": [\"Beginning to featurize the dataset.\", \"Completed featurizing the dataset.\", \"Generating individually featurized CV splits.\", \"Beginning to featurize the CV split.\", \"Completed featurizing the CV split.\", \"Beginning to featurize the CV split.\", \"Completed featurizing the CV split.\", \"Beginning to featurize the CV split.\", \"Completed featurizing the CV split.\", \"Beginning to featurize the CV split.\", \"Completed featurizing the CV split.\", \"Beginning to featurize the CV split.\", \"Completed featurizing the CV split.\", \"Beginning model selection.\", \"Best run model explanations started\", \"Model explanations data setup completed\", \"Choosing LightGBM as the surrogate model for explanations\", \"Computation of engineered features started\", \"Computation of engineered features completed\", \"Computation of raw features started\", \"Computation of raw features completed\", \"Best run model explanations completed\"]}]}, {\"name\": \"r2_score\", \"run_id\": \"AutoML_dd070e91-6e7a-4509-996d-5215e118b403\", \"categories\": [0], \"series\": [{\"data\": [0.0]}]}, {\"name\": \"normalized_root_mean_squared_error\", \"run_id\": \"AutoML_dd070e91-6e7a-4509-996d-5215e118b403\", \"categories\": [0], \"series\": [{\"data\": [0.14213012834773164]}]}, {\"name\": \"root_mean_squared_error\", \"run_id\": \"AutoML_dd070e91-6e7a-4509-996d-5215e118b403\", \"categories\": [0], \"series\": [{\"data\": [2.1279072369626704]}]}, {\"name\": \"mean_absolute_percentage_error\", \"run_id\": \"AutoML_dd070e91-6e7a-4509-996d-5215e118b403\", \"categories\": [0], \"series\": [{\"data\": [1.2909211017002795]}]}, {\"name\": \"explained_variance\", \"run_id\": \"AutoML_dd070e91-6e7a-4509-996d-5215e118b403\", \"categories\": [0], \"series\": [{\"data\": [1.0]}]}, {\"name\": \"spearman_correlation\", \"run_id\": \"AutoML_dd070e91-6e7a-4509-996d-5215e118b403\", \"categories\": [0], \"series\": [{\"data\": [-1.0]}]}, {\"name\": \"normalized_median_absolute_error\", \"run_id\": \"AutoML_dd070e91-6e7a-4509-996d-5215e118b403\", \"categories\": [0], \"series\": [{\"data\": [0.14213012834773164]}]}, {\"name\": \"normalized_root_mean_squared_log_error\", \"run_id\": \"AutoML_dd070e91-6e7a-4509-996d-5215e118b403\", \"categories\": [0], \"series\": [{\"data\": [0.1401024020213567]}]}, {\"name\": \"root_mean_squared_log_error\", \"run_id\": \"AutoML_dd070e91-6e7a-4509-996d-5215e118b403\", \"categories\": [0], \"series\": [{\"data\": [0.012822532368185157]}]}, {\"name\": \"mean_absolute_error\", \"run_id\": \"AutoML_dd070e91-6e7a-4509-996d-5215e118b403\", \"categories\": [0], \"series\": [{\"data\": [2.1279072369626704]}]}, {\"name\": \"normalized_mean_absolute_error\", \"run_id\": \"AutoML_dd070e91-6e7a-4509-996d-5215e118b403\", \"categories\": [0], \"series\": [{\"data\": [0.14213012834773164]}]}, {\"name\": \"median_absolute_error\", \"run_id\": \"AutoML_dd070e91-6e7a-4509-996d-5215e118b403\", \"categories\": [0], \"series\": [{\"data\": [2.1279072369626704]}]}], \"run_logs\": \"\\nRun is completed.\", \"graph\": {}, \"widget_settings\": {\"childWidgetDisplay\": \"popup\", \"send_telemetry\": false, \"log_level\": \"INFO\", \"sdk_version\": \"1.28.0\"}, \"loading\": false}"
          },
          "metadata": {}
        }
      ],
      "execution_count": 87,
      "metadata": {
        "gather": {
          "logged": 1623611129567
        },
        "jupyter": {
          "outputs_hidden": false,
          "source_hidden": false
        },
        "nteract": {
          "transient": {
            "deleting": false
          }
        }
      }
    },
    {
      "cell_type": "markdown",
      "source": [
        "## Best Model\n",
        "\n",
        "TODO: In the cell below, get the best model from the automl experiments and display all the properties of the model.\n",
        "\n"
      ],
      "metadata": {}
    },
    {
      "cell_type": "code",
      "source": [
        "\r\n",
        "# Retrieve and save your best automl model.\r\n",
        "\r\n",
        "best_run_autoML, fitted_model_autoML = run_autoML.get_output()\r\n",
        "\r\n",
        "print(best_run_autoML.id)\r\n",
        "\r\n",
        "print('MAE of best autoML model = {} and RMSE = {}'.format(best_run_autoML.get_metrics()['mean_absolute_error'], best_run_autoML.get_metrics()['root_mean_squared_error']))"
      ],
      "outputs": [],
      "execution_count": null,
      "metadata": {
        "gather": {
          "logged": 1598431425670
        },
        "jupyter": {
          "outputs_hidden": false,
          "source_hidden": false
        },
        "nteract": {
          "transient": {
            "deleting": false
          }
        }
      }
    },
    {
      "cell_type": "code",
      "source": [
        "#TODO: Save the best model"
      ],
      "outputs": [],
      "execution_count": null,
      "metadata": {
        "gather": {
          "logged": 1598431426111
        },
        "jupyter": {
          "outputs_hidden": false,
          "source_hidden": false
        },
        "nteract": {
          "transient": {
            "deleting": false
          }
        }
      }
    },
    {
      "cell_type": "markdown",
      "source": [
        "## Model Deployment\n",
        "\n",
        "Remember you have to deploy only one of the two models you trained.. Perform the steps in the rest of this notebook only if you wish to deploy this model.\n",
        "\n",
        "TODO: In the cell below, register the model, create an inference config and deploy the model as a web service."
      ],
      "metadata": {}
    },
    {
      "cell_type": "code",
      "source": [],
      "outputs": [],
      "execution_count": null,
      "metadata": {
        "gather": {
          "logged": 1598431435189
        },
        "jupyter": {
          "outputs_hidden": false,
          "source_hidden": false
        },
        "nteract": {
          "transient": {
            "deleting": false
          }
        }
      }
    },
    {
      "cell_type": "markdown",
      "source": [
        "TODO: In the cell below, send a request to the web service you deployed to test it."
      ],
      "metadata": {
        "collapsed": true,
        "gather": {
          "logged": 1598431657736
        },
        "jupyter": {
          "outputs_hidden": false,
          "source_hidden": false
        },
        "nteract": {
          "transient": {
            "deleting": false
          }
        }
      }
    },
    {
      "cell_type": "code",
      "source": [],
      "outputs": [],
      "execution_count": null,
      "metadata": {
        "gather": {
          "logged": 1598432707604
        },
        "jupyter": {
          "outputs_hidden": false,
          "source_hidden": false
        },
        "nteract": {
          "transient": {
            "deleting": false
          }
        }
      }
    },
    {
      "cell_type": "markdown",
      "source": [
        "TODO: In the cell below, print the logs of the web service and delete the service"
      ],
      "metadata": {
        "collapsed": true,
        "gather": {
          "logged": 1598432765711
        },
        "jupyter": {
          "outputs_hidden": false,
          "source_hidden": false
        },
        "nteract": {
          "transient": {
            "deleting": false
          }
        }
      }
    },
    {
      "cell_type": "code",
      "source": [],
      "outputs": [],
      "execution_count": null,
      "metadata": {
        "jupyter": {
          "outputs_hidden": false,
          "source_hidden": false
        },
        "nteract": {
          "transient": {
            "deleting": false
          }
        }
      }
    }
  ],
  "metadata": {
    "kernel_info": {
      "name": "python3"
    },
    "kernelspec": {
      "name": "python3",
      "language": "python",
      "display_name": "Python 3"
    },
    "language_info": {
      "name": "python",
      "version": "3.6.9",
      "mimetype": "text/x-python",
      "codemirror_mode": {
        "name": "ipython",
        "version": 3
      },
      "pygments_lexer": "ipython3",
      "nbconvert_exporter": "python",
      "file_extension": ".py"
    },
    "nteract": {
      "version": "nteract-front-end@1.0.0"
    },
    "microsoft": {
      "host": {
        "AzureML": {
          "notebookHasBeenCompleted": true
        }
      }
    }
  },
  "nbformat": 4,
  "nbformat_minor": 2
}