{
  "cells": [
    {
      "cell_type": "markdown",
      "source": [
        "# Hyperparameter Tuning using HyperDrive\n",
        "\n",
        "TODO: Import Dependencies. In the cell below, import all the dependencies that you will need to complete the project."
      ],
      "metadata": {}
    },
    {
      "cell_type": "code",
      "source": [
        "import numpy as np\r\n",
        "import math\r\n",
        "import matplotlib.pyplot as plt\r\n",
        "from scipy.stats import norm\r\n",
        "#!pip install pandas_datareader\r\n",
        "from pandas_datareader import data\r\n",
        "from azureml.core import Workspace, Dataset, Experiment, Run\r\n",
        "from azureml.train.automl import AutoMLConfig\r\n",
        "from azureml.widgets import RunDetails\r\n",
        "from azureml.core.compute import AmlCompute, ComputeTarget\r\n",
        "from azureml.core.compute_target import ComputeTargetException\r\n",
        "from azureml.train.automl.run import AutoMLRun\r\n",
        "from azureml.core.model import Model, InferenceConfig\r\n",
        "from azureml.core.environment import Environment\r\n",
        "from azureml.core.webservice import AciWebservice\r\n",
        "from sklearn.preprocessing import MinMaxScaler\r\n",
        "from sklearn.metrics import mean_squared_error, mean_absolute_error\r\n",
        "# Webservice\r\n",
        "import urllib.request\r\n",
        "import json\r\n",
        "import os\r\n",
        "import ssl\r\n",
        "\r\n",
        "# Data Manipulation\r\n",
        "import seaborn as sns\r\n",
        "import pandas as pd\r\n",
        "import matplotlib.pyplot as plt\r\n",
        "\r\n",
        "from tensorflow.keras.models import Sequential\r\n",
        "from tensorflow.keras.layers import LSTM, Dense, Dropout\r\n",
        "from tensorflow.keras.callbacks import EarlyStopping, Callback\r\n",
        "import tensorflow.keras as tf\r\n",
        "\r\n",
        "# AzureML\r\n",
        "from azureml.core import Workspace, Dataset, Experiment, Run\r\n",
        "from azureml.train.hyperdrive import HyperDriveRun\r\n",
        "from azureml.widgets import RunDetails\r\n",
        "from azureml.core.compute import AmlCompute\r\n",
        "from azureml.core.compute import ComputeTarget\r\n",
        "from azureml.core.compute_target import ComputeTargetException\r\n",
        "from azureml.train.hyperdrive import RandomParameterSampling, BanditPolicy, HyperDriveConfig, PrimaryMetricGoal\r\n",
        "from azureml.train.hyperdrive import choice\r\n",
        "from azureml.train.dnn import TensorFlow"
      ],
      "outputs": [],
      "execution_count": 56,
      "metadata": {
        "gather": {
          "logged": 1623883250812
        }
      }
    },
    {
      "cell_type": "markdown",
      "source": [
        "## Dataset\n",
        "\n",
        "TODO: Get data. In the cell below, write code to access the data you will be using in this project. Remember that the dataset needs to be external."
      ],
      "metadata": {}
    },
    {
      "cell_type": "code",
      "source": [
        "ws = Workspace.from_config()\n",
        "experiment_name = 'MSFT-stock'\n",
        "experiment=Experiment(ws, experiment_name)"
      ],
      "outputs": [],
      "execution_count": 57,
      "metadata": {
        "gather": {
          "logged": 1623883263441
        },
        "jupyter": {
          "outputs_hidden": false,
          "source_hidden": false
        },
        "nteract": {
          "transient": {
            "deleting": false
          }
        }
      }
    },
    {
      "cell_type": "code",
      "source": [
        "dataset_prepared = Dataset.get_by_name(ws, name='MSFT-stock cleaned')\r\n",
        "\r\n",
        "df = dataset_prepared.to_pandas_dataframe()\r\n",
        "df = df.set_index('Date', inplace=False) \r\n",
        "df.head()"
      ],
      "outputs": [
        {
          "output_type": "execute_result",
          "execution_count": 73,
          "data": {
            "text/plain": "            Adj Close\nDate                 \n2019-01-02  98.148849\n2019-01-03  94.538162\n2019-01-04  98.935059\n2019-01-07  99.061226\n2019-01-08  99.779510",
            "text/html": "<div>\n<style scoped>\n    .dataframe tbody tr th:only-of-type {\n        vertical-align: middle;\n    }\n\n    .dataframe tbody tr th {\n        vertical-align: top;\n    }\n\n    .dataframe thead th {\n        text-align: right;\n    }\n</style>\n<table border=\"1\" class=\"dataframe\">\n  <thead>\n    <tr style=\"text-align: right;\">\n      <th></th>\n      <th>Adj Close</th>\n    </tr>\n    <tr>\n      <th>Date</th>\n      <th></th>\n    </tr>\n  </thead>\n  <tbody>\n    <tr>\n      <th>2019-01-02</th>\n      <td>98.148849</td>\n    </tr>\n    <tr>\n      <th>2019-01-03</th>\n      <td>94.538162</td>\n    </tr>\n    <tr>\n      <th>2019-01-04</th>\n      <td>98.935059</td>\n    </tr>\n    <tr>\n      <th>2019-01-07</th>\n      <td>99.061226</td>\n    </tr>\n    <tr>\n      <th>2019-01-08</th>\n      <td>99.779510</td>\n    </tr>\n  </tbody>\n</table>\n</div>"
          },
          "metadata": {}
        }
      ],
      "execution_count": 73,
      "metadata": {
        "collapsed": true,
        "jupyter": {
          "source_hidden": false,
          "outputs_hidden": false
        },
        "nteract": {
          "transient": {
            "deleting": false
          }
        },
        "gather": {
          "logged": 1623884569794
        }
      }
    },
    {
      "cell_type": "markdown",
      "source": [
        "## Hyperdrive Configuration\n",
        "\n",
        "TODO: Explain the model you are using and the reason for chosing the different hyperparameters, termination policy and config settings."
      ],
      "metadata": {
        "collapsed": true,
        "gather": {
          "logged": 1598531923519
        },
        "jupyter": {
          "outputs_hidden": false,
          "source_hidden": false
        },
        "nteract": {
          "transient": {
            "deleting": false
          }
        }
      }
    },
    {
      "cell_type": "code",
      "source": [
        "amlcompute_cluster_name = \"AMLForecasting\"\n",
        "\n",
        "# Verify that cluster does not exist already\n",
        "try:\n",
        "    compute_target = ComputeTarget(workspace=ws, name=amlcompute_cluster_name)\n",
        "    print('Found existing cluster, use it.')\n",
        "except ComputeTargetException:\n",
        "    print('No cluster found')\n",
        "    compute_config = AmlCompute.provisioning_configuration(vm_size='STANDARD_DS3_V2',                                                           \n",
        "                                                           max_nodes=4,\n",
        "                                                          min_nodes = 1, idle_seconds_before_scaledown = 600)\n",
        "    compute_target = ComputeTarget.create(ws, amlcompute_cluster_name, compute_config)\n",
        "\n",
        "compute_target.wait_for_completion(show_output=True)"
      ],
      "outputs": [
        {
          "output_type": "stream",
          "name": "stdout",
          "text": [
            "Found existing cluster, use it.\n",
            "Succeeded\n",
            "AmlCompute wait for completion finished\n",
            "\n",
            "Minimum number of nodes requested have been provisioned\n"
          ]
        }
      ],
      "execution_count": 59,
      "metadata": {
        "gather": {
          "logged": 1623883273053
        },
        "jupyter": {
          "outputs_hidden": false,
          "source_hidden": false
        },
        "nteract": {
          "transient": {
            "deleting": false
          }
        }
      }
    },
    {
      "cell_type": "code",
      "source": [
        "# Prepare data for NN training\r\n",
        "\r\n",
        "# Preprocessing\r\n",
        "\r\n",
        "def dnn_2d(df, look_back):\r\n",
        "    X,Y =[], []\r\n",
        "    for i in range(len(df)-look_back):\r\n",
        "        d=i+look_back\r\n",
        "        X.append(df[i:d,0])\r\n",
        "        Y.append(df[d,0])\r\n",
        "    return np.array(X),np.array(Y)\r\n",
        "\r\n",
        "train_size =160\r\n",
        "\r\n",
        "train, test = df.values[0:train_size,:], df.values[train_size:,:]\r\n",
        "\r\n",
        "look_back = 12\r\n",
        "\r\n",
        "def model_dnn(look_back):\r\n",
        "    model = Sequential()\r\n",
        "    model.add(Dense(units=32, input_dim=look_back, activation='relu'))\r\n",
        "    model.add(Dense(32, activation='relu'))\r\n",
        "    model.add(Dense(1))\r\n",
        "    model.compile(loss='mean_squared_error', optimizer='adam', metrics = ['mae',tf.metrics.RootMeanSquaredError()])\r\n",
        "\r\n",
        "    return model\r\n",
        "\r\n",
        "# Training DNN\r\n",
        "\r\n",
        "model = model_dnn(look_back)\r\n",
        "\r\n",
        "X_train,y_train = dnn_2d(train,look_back)\r\n",
        "\r\n",
        "X_test,y_test = dnn_2d(test,look_back)\r\n",
        "\r\n",
        "history = model.fit([X_train], [y_train], epochs = 100, batch_size=32, verbose=0,\r\n",
        "                    validation_data=([X_test],[y_test]),\r\n",
        "#                     callbacks=[EarlyStopping(monitor='val_loss',patience=10)],\r\n",
        "                    shuffle=False)\r\n",
        "\r\n",
        "print('Done')"
      ],
      "outputs": [
        {
          "output_type": "stream",
          "name": "stdout",
          "text": [
            "Done\n"
          ]
        }
      ],
      "execution_count": 84,
      "metadata": {
        "collapsed": true,
        "jupyter": {
          "source_hidden": false,
          "outputs_hidden": false
        },
        "nteract": {
          "transient": {
            "deleting": false
          }
        },
        "gather": {
          "logged": 1623884972678
        }
      }
    },
    {
      "cell_type": "code",
      "source": [
        "#TODO: Submit your experiment\r\n",
        "def model_loss(history):\r\n",
        "    plt.figure(figsize=(8,4))\r\n",
        "    plt.plot(history.history['loss'], label='Train Loss')\r\n",
        "    plt.plot(history.history['val_loss'], label='Val Loss')\r\n",
        "    plt.title('model loss')\r\n",
        "    plt.ylabel('loss')\r\n",
        "    plt.xlabel('epochs')\r\n",
        "    plt.legend(loc='upper right')\r\n",
        "    sns.despine(top=True)\r\n",
        "    plt.show()\r\n",
        "    \r\n",
        "train_score = model.evaluate(X_train, y_train, verbose=0)\r\n",
        "print('Train Root Mean Squared Error(RMSE): %.2f; Train Mean Absolute Error(MAE) : %.2f ' \r\n",
        "% (np.sqrt(train_score[1]), train_score[2]))\r\n",
        "test_score = model.evaluate(X_test, y_test, verbose=0)\r\n",
        "print('Val Root Mean Squared Error(RMSE): %.2f; Test Mean Absolute Error(MAE) : %.2f ' \r\n",
        "% (np.sqrt(test_score[1]), test_score[2]))\r\n",
        "model_loss(history)"
      ],
      "outputs": [
        {
          "output_type": "stream",
          "name": "stdout",
          "text": [
            "Train Root Mean Squared Error(RMSE): 1.40; Train Mean Absolute Error(MAE) : 2.52 \n",
            "Val Root Mean Squared Error(RMSE): 1.31; Test Mean Absolute Error(MAE) : 2.14 \n"
          ]
        },
        {
          "output_type": "display_data",
          "data": {
            "text/plain": "<Figure size 576x288 with 1 Axes>",
            "image/png": "[encoded data removed]"
          },
          "metadata": {
            "needs_background": "light"
          }
        }
      ],
      "execution_count": 85,
      "metadata": {
        "gather": {
          "logged": 1623884981242
        },
        "jupyter": {
          "outputs_hidden": false,
          "source_hidden": false
        },
        "nteract": {
          "transient": {
            "deleting": false
          }
        }
      }
    },
    {
      "cell_type": "code",
      "source": [
        "def prediction_plot(y_test, test_predict):\r\n",
        "    len_prediction=df.index[look_back:]\r\n",
        "    plt.figure(figsize=(8,4))\r\n",
        "    plt.plot(len_prediction, y_test[:], marker='.', label=\"actual\")    \r\n",
        "    plt.plot(len_prediction, test_predict[:], 'r', label=\"prediction\")\r\n",
        "    plt.tight_layout()\r\n",
        "    sns.despine(top=True)\r\n",
        "    plt.ylabel('Passenger Count', size=12)\r\n",
        "    plt.xlabel('Time step', size=12)\r\n",
        "    plt.legend(fontsize=12)    \r\n",
        "    plt.show()\r\n",
        "\r\n",
        "Xa,ya = dnn_2d(df.values,look_back)\r\n",
        "\r\n",
        "test_predict = model.predict(Xa)\r\n",
        "\r\n",
        "prediction_plot(ya, test_predict)"
      ],
      "outputs": [
        {
          "output_type": "display_data",
          "data": {
            "text/plain": "<Figure size 576x288 with 1 Axes>",
            "image/png": "[encoded data removed]"
          },
          "metadata": {
            "needs_background": "light"
          }
        }
      ],
      "execution_count": 86,
      "metadata": {
        "collapsed": true,
        "jupyter": {
          "source_hidden": false,
          "outputs_hidden": false
        },
        "nteract": {
          "transient": {
            "deleting": false
          }
        },
        "gather": {
          "logged": 1623884985360
        }
      }
    },
    {
      "cell_type": "markdown",
      "source": [
        "## Run Details\n",
        "\n",
        "OPTIONAL: Write about the different models trained and their performance. Why do you think some models did better than others?\n",
        "\n",
        "TODO: In the cell below, use the `RunDetails` widget to show the different experiments."
      ],
      "metadata": {
        "collapsed": true,
        "gather": {
          "logged": 1598544898497
        },
        "jupyter": {
          "outputs_hidden": false,
          "source_hidden": false
        },
        "nteract": {
          "transient": {
            "deleting": false
          }
        }
      }
    },
    {
      "cell_type": "code",
      "source": [
        "def lstm_3d(df, look_back):\r\n",
        "    X, Y =[], []\r\n",
        "    for i in range(len(df)-look_back):\r\n",
        "        d=i+look_back\r\n",
        "        X.append(df[i:d,])\r\n",
        "        Y.append(df[d,])\r\n",
        "    return np.array(X), np.array(Y)\r\n",
        "\r\n",
        "\r\n",
        "#create numpy.ndarray\r\n",
        "df_arr= df.values\r\n",
        " \r\n",
        "df_arr = np.reshape(df_arr, (-1, 1)) #LTSM requires more input features compared to RNN or DNN\r\n",
        "scaler = MinMaxScaler(feature_range=(0, 1))#LTSM is senstive to the scale of features\r\n",
        "df_arr = scaler.fit_transform(df_arr)\r\n",
        "\r\n",
        "train_size =  160\r\n",
        "test_size = len(df_arr)-train_size\r\n",
        "train, test = df_arr[0:train_size,:], df_arr[train_size:len(df_arr),:]\r\n",
        "look_back = 12\r\n",
        "trainX, trainY = lstm_3d(train, look_back)\r\n",
        "testX, testY = lstm_3d(test, look_back)\r\n",
        "# reshape input to be [samples, time steps, features]\r\n",
        "print(trainY.shape)\r\n",
        "trainX = np.reshape(trainX, (trainX.shape[0], 1, trainX.shape[1]))\r\n",
        "testX = np.reshape(testX, (testX.shape[0], 1, testX.shape[1]))\r\n",
        "\r\n",
        "print(trainX.shape)\r\n",
        "\r\n",
        "def model_lstm(look_back):\r\n",
        "    model=Sequential()\r\n",
        "#     model.add(LSTM(100, input_shape=(1, look_back), activation='relu'))\r\n",
        "#     model.add(Dense(1))\r\n",
        "    \r\n",
        "    model.add(LSTM(64, activation='relu', input_shape=(1,look_back)))\r\n",
        "    #lstm.add(LSTM(32, activation='relu', input_shape=(32,1)))\r\n",
        "    model.add(Dense(10))\r\n",
        "    model.add(Dropout(0.3))\r\n",
        "    #lstm.add(Dense(10))\r\n",
        "    #lstm.add(Dropout(0.3))\r\n",
        "    model.add(Dense(1))\r\n",
        "    \r\n",
        "    model.compile(loss='mean_squared_error',  optimizer='adam',metrics = ['mse', 'mae'])\r\n",
        "\r\n",
        "    \r\n",
        "    return model\r\n",
        "\r\n",
        "\r\n",
        "model=model_lstm(look_back)\r\n",
        "history = model.fit(trainX, trainY, epochs=100, batch_size=30, validation_data=(testX, testY),\r\n",
        "#                     callbacks=[EarlyStopping(monitor='val_loss', patience=10)],\r\n",
        "                    verbose=0, shuffle=False)\r\n",
        "\r\n",
        "train_predict = model.predict(trainX)\r\n",
        "test_predict = model.predict(testX)\r\n",
        "\r\n",
        "# invert predictions\r\n",
        "\r\n",
        "train_predict = scaler.inverse_transform(train_predict)\r\n",
        "trainY = scaler.inverse_transform(trainY)\r\n",
        "test_predict = scaler.inverse_transform(test_predict)\r\n",
        "testY = scaler.inverse_transform(testY)\r\n",
        "\r\n",
        "print('Done')"
      ],
      "outputs": [
        {
          "output_type": "stream",
          "name": "stdout",
          "text": [
            "(148, 1)\n",
            "(148, 1, 12)\n",
            "Done\n"
          ]
        }
      ],
      "execution_count": 87,
      "metadata": {
        "gather": {
          "logged": 1623885012513
        },
        "jupyter": {
          "outputs_hidden": false,
          "source_hidden": false
        },
        "nteract": {
          "transient": {
            "deleting": false
          }
        }
      }
    },
    {
      "cell_type": "code",
      "source": [
        "print('Train Root Mean Squared Error(RMSE): %.2f; Train Mean Absolute Error(MAE) : %.2f '% (np.sqrt(mean_squared_error(trainY[:,0], train_predict[:,0])),(mean_absolute_error(trainY[:,0], train_predict[:,0]))))\r\n",
        "print('Test Root Mean Squared Error(RMSE): %.2f; Test Mean Absolute Error(MAE) : %.2f '% (np.sqrt(mean_squared_error(testY[:,0], test_predict[:,0])),(mean_absolute_error(testY[:,0], test_predict[:,0]))))\r\n",
        "\r\n",
        "\r\n",
        "model_loss(history)"
      ],
      "outputs": [
        {
          "output_type": "stream",
          "name": "stdout",
          "text": [
            "Train Root Mean Squared Error(RMSE): 2.53; Train Mean Absolute Error(MAE) : 1.95 \n",
            "Test Root Mean Squared Error(RMSE): 2.05; Test Mean Absolute Error(MAE) : 1.70 \n"
          ]
        },
        {
          "output_type": "display_data",
          "data": {
            "text/plain": "<Figure size 576x288 with 1 Axes>",
            "image/png": "[encoded data removed]"
          },
          "metadata": {
            "needs_background": "light"
          }
        }
      ],
      "execution_count": 88,
      "metadata": {
        "collapsed": true,
        "jupyter": {
          "source_hidden": false,
          "outputs_hidden": false
        },
        "nteract": {
          "transient": {
            "deleting": false
          }
        },
        "gather": {
          "logged": 1623885015590
        }
      }
    },
    {
      "cell_type": "code",
      "source": [
        "# Plot the prediction against the actual data\r\n",
        "Xa,ya = lstm_3d(df_arr,look_back)\r\n",
        "Xa = np.reshape(Xa, (Xa.shape[0], 1, Xa.shape[1]))\r\n",
        "\r\n",
        "test_predict = model.predict(Xa)\r\n",
        "ya = scaler.inverse_transform(ya)\r\n",
        "\r\n",
        "test_predict = scaler.inverse_transform(test_predict)\r\n",
        "\r\n",
        "\r\n",
        "prediction_plot(ya, test_predict)"
      ],
      "outputs": [
        {
          "output_type": "display_data",
          "data": {
            "text/plain": "<Figure size 576x288 with 1 Axes>",
            "image/png": "[encoded data removed]"
          },
          "metadata": {
            "needs_background": "light"
          }
        }
      ],
      "execution_count": 89,
      "metadata": {
        "collapsed": true,
        "jupyter": {
          "source_hidden": false,
          "outputs_hidden": false
        },
        "nteract": {
          "transient": {
            "deleting": false
          }
        },
        "gather": {
          "logged": 1623885023089
        }
      }
    },
    {
      "cell_type": "code",
      "source": [
        "# Create an early termination policy. This is not required if using Bayesian sampling.\r\n",
        "early_termination_policy = BanditPolicy(slack_factor=0.1, evaluation_interval=1, delay_evaluation=5)\r\n",
        "\r\n",
        "# Create the different params that will be using during training\r\n",
        "\r\n",
        "script_params = {\r\n",
        "    '--dataset':'MSFT-stock cleaned',   \r\n",
        "}\r\n",
        "\r\n",
        "param_sampling = RandomParameterSampling(\r\n",
        "    {\r\n",
        "        '--n_epochs': choice(100,200,500),\r\n",
        "        '--model_type': choice('DNN','LSTM'),\r\n",
        "        '--n_layers': choice(0,1,2),\r\n",
        "        '--n_neurons': choice(16,64,128),\r\n",
        "        '--look_back': choice(6,12,15),\r\n",
        "        '--dropout': choice(0.0,0.2,0.3),\r\n",
        "        '--batch_size': choice(16,64,128)\r\n",
        "    }\r\n",
        "\r\n",
        ")\r\n",
        "\r\n",
        "\r\n",
        "\r\n",
        "# Create your estimator and hyperdrive config\r\n",
        "estimator = TensorFlow(source_directory='.',\r\n",
        "                 script_params=script_params,\r\n",
        "                 compute_target=compute_target, \r\n",
        "                 entry_script='train.py',\r\n",
        "                 pip_packages= [                            \r\n",
        "                            \"numpy\",\r\n",
        "                            \"pandas\",\r\n",
        "                            \"scikit-learn\",\r\n",
        "                            \"matplotlib\",\r\n",
        "                            \"seaborn\",\r\n",
        "                            \"scikit-learn\"\r\n",
        "                 ])\r\n",
        "\r\n",
        "hyperdrive_run_config = HyperDriveConfig(estimator=estimator,\r\n",
        "                                         hyperparameter_sampling=param_sampling,\r\n",
        "                                         policy=early_termination_policy,\r\n",
        "                                         primary_metric_name='MAE_train',\r\n",
        "                                         primary_metric_goal=PrimaryMetricGoal.MINIMIZE,\r\n",
        "                                         max_total_runs=40,\r\n",
        "                                         max_concurrent_runs=4,\r\n",
        "                                         max_duration_minutes= 180)"
      ],
      "outputs": [
        {
          "output_type": "stream",
          "name": "stderr",
          "text": [
            "WARNING:azureml.train.dnn._tensorflow:'TensorFlow' estimator is deprecated. Please use 'ScriptRunConfig' from 'azureml.core.script_run_config' with your own defined environment or one of the Azure ML TensorFlow curated environments.\n",
            "WARNING:azureml.core.environment:'enabled' is deprecated. Please use the azureml.core.runconfig.DockerConfiguration object with the 'use_docker' param instead.\n",
            "WARNING:azureml.train.estimator._framework_base_estimator:framework_version is not specified, defaulting to version 1.13.\n"
          ]
        }
      ],
      "execution_count": 90,
      "metadata": {
        "collapsed": true,
        "jupyter": {
          "source_hidden": false,
          "outputs_hidden": false
        },
        "nteract": {
          "transient": {
            "deleting": false
          }
        },
        "gather": {
          "logged": 1623885221256
        }
      }
    },
    {
      "cell_type": "code",
      "source": [
        "\r\n",
        "# Submit the experiment\r\n",
        "TRAIN = True\r\n",
        "\r\n",
        "if TRAIN:\r\n",
        "    hyperdrive_run = experiment.submit(hyperdrive_run_config)\r\n",
        "    hyperdrive_run.wait_for_completion(show_output=True)"
      ],
      "outputs": [
        {
          "output_type": "stream",
          "name": "stderr",
          "text": [
            "WARNING:root:If 'script' has been provided here and a script file name has been specified in 'run_config', 'script' provided in ScriptRunConfig initialization will take precedence.\n",
            "WARNING:root:If 'arguments' has been provided here and arguments have been specified in 'run_config', 'arguments' provided in ScriptRunConfig initialization will take precedence.\n"
          ]
        },
        {
          "output_type": "stream",
          "name": "stdout",
          "text": [
            "RunId: HD_bff31df8-400e-4a77-af84-e7d5f24ae165\n",
            "Web View: https://ml.azure.com/runs/HD_bff31df8-400e-4a77-af84-e7d5f24ae165?wsid=/subscriptions/d4ad7261-832d-46b2-b093-22156001df5b/resourcegroups/aml-quickstarts-147313/workspaces/quick-starts-ws-147313&tid=660b3398-b80e-49d2-bc5b-ac1dc93b5254\n",
            "\n",
            "Streaming azureml-logs/hyperdrive.txt\n",
            "=====================================\n",
            "\n",
            "\"<START>[2021-06-16T23:13:47.675288][API][INFO]Experiment created<END>\\n\"\"<START>[2021-06-16T23:13:48.100841][GENERATOR][INFO]Trying to sample '4' jobs from the hyperparameter space<END>\\n\"\"<START>[2021-06-16T23:13:48.393513][GENERATOR][INFO]Successfully sampled '4' jobs, they will soon be submitted to the execution target.<END>\\n\"\n"
          ]
        }
      ],
      "execution_count": 91,
      "metadata": {
        "collapsed": true,
        "jupyter": {
          "source_hidden": false,
          "outputs_hidden": false
        },
        "nteract": {
          "transient": {
            "deleting": false
          }
        },
        "gather": {
          "logged": 1623884841472
        }
      }
    },
    {
      "cell_type": "markdown",
      "source": [
        "## Best Model\n",
        "\n",
        "TODO: In the cell below, get the best model from the hyperdrive experiments and display all the properties of the model."
      ],
      "metadata": {}
    },
    {
      "cell_type": "code",
      "source": [
        "RunDetails(hyperdrive_run).show()"
      ],
      "outputs": [],
      "execution_count": null,
      "metadata": {
        "collapsed": true,
        "jupyter": {
          "source_hidden": false,
          "outputs_hidden": false
        },
        "nteract": {
          "transient": {
            "deleting": false
          }
        },
        "gather": {
          "logged": 1623884916046
        }
      }
    },
    {
      "cell_type": "code",
      "source": [
        "#TODO: Save the best model\r\n",
        "\r\n",
        "best_run_hdr = hyperdrive_run.get_best_run_by_primary_metric()\r\n",
        "\r\n",
        "print('MAE of the best hyperdrive run : {} \\n'.format(best_run_hdr.get_metrics()['MAE_val']))\r\n",
        "\r\n",
        "list_hyper = best_run_hdr.get_details()['runDefinition']['arguments']\r\n",
        "\r\n",
        "print('Choice of HyperParameters:')\r\n",
        "for i in range(0,len(list_hyper),2):\r\n",
        "    print(list_hyper[i]+' : '+list_hyper[i+1])"
      ],
      "outputs": [],
      "execution_count": null,
      "metadata": {
        "gather": {
          "logged": 1598546657829
        },
        "jupyter": {
          "outputs_hidden": false,
          "source_hidden": false
        },
        "nteract": {
          "transient": {
            "deleting": false
          }
        }
      }
    },
    {
      "cell_type": "code",
      "source": [
        "os.makedirs('outputs', exist_ok=True)\r\n",
        "\r\n",
        "best_run_hdr.download_file('outputs/'+best_run_hdr.id, output_file_path='./outputs/')\r\n",
        "\r\n",
        "!ls ./outputs/"
      ],
      "outputs": [],
      "execution_count": null,
      "metadata": {
        "collapsed": true,
        "jupyter": {
          "source_hidden": false,
          "outputs_hidden": false
        },
        "nteract": {
          "transient": {
            "deleting": false
          }
        }
      }
    },
    {
      "cell_type": "markdown",
      "source": [
        "## Model Deployment\n",
        "\n",
        "Remember you have to deploy only one of the two models you trained.. Perform the steps in the rest of this notebook only if you wish to deploy this model.\n",
        "\n",
        "TODO: In the cell below, register the model, create an inference config and deploy the model as a web service."
      ],
      "metadata": {
        "collapsed": true,
        "jupyter": {
          "outputs_hidden": false,
          "source_hidden": false
        },
        "nteract": {
          "transient": {
            "deleting": false
          }
        }
      }
    },
    {
      "cell_type": "markdown",
      "source": [
        "TODO: In the cell below, send a request to the web service you deployed to test it."
      ],
      "metadata": {}
    },
    {
      "cell_type": "markdown",
      "source": [
        "TODO: In the cell below, print the logs of the web service and delete the service"
      ],
      "metadata": {}
    },
    {
      "cell_type": "code",
      "source": [
        " best_model = load_model('outputs/'+best_run_hdr.id)\r\n",
        "\r\n",
        "  best_model.summary()"
      ],
      "outputs": [],
      "execution_count": null,
      "metadata": {
        "collapsed": true,
        "jupyter": {
          "source_hidden": false,
          "outputs_hidden": false
        },
        "nteract": {
          "transient": {
            "deleting": false
          }
        }
      }
    },
    {
      "cell_type": "code",
      "source": [
        "# Check the actual vs predicted of the best model\r\n",
        "\r\n",
        "def prediction_plot(df,y_test, test_predict,look_back):\r\n",
        "    len_prediction=df.index[look_back:]\r\n",
        "    plt.figure(figsize=(8,4))\r\n",
        "    plt.plot(len_prediction, y_test[:], marker='.', label=\"actual\")    \r\n",
        "    plt.plot(len_prediction, test_predict[:], 'r', label=\"prediction\")\r\n",
        "    plt.tight_layout()\r\n",
        "    sns.despine(top=True)\r\n",
        "    plt.ylabel('Passenger Count', size=12)\r\n",
        "    plt.xlabel('Time step', size=12)\r\n",
        "    plt.legend(fontsize=12)    \r\n",
        "    plt.show()\r\n",
        "    return\r\n",
        "\r\n",
        "X,y = dnn_2d(df.values,15)\r\n",
        "\r\n",
        "test_predict = best_model.predict(X)\r\n",
        "\r\n",
        "prediction_plot(df,y, test_predict,15)"
      ],
      "outputs": [],
      "execution_count": null,
      "metadata": {
        "collapsed": true,
        "jupyter": {
          "source_hidden": false,
          "outputs_hidden": false
        },
        "nteract": {
          "transient": {
            "deleting": false
          }
        }
      }
    },
    {
      "cell_type": "code",
      "source": [
        "# post Covid prediction\r\n",
        "\r\n",
        "df_covid = Dataset.get_by_name(ws, name='SFO Air Traffic covid')\r\n",
        "\r\n",
        "\r\n",
        "df_covid = df_covid.to_pandas_dataframe()\r\n",
        "df_covid = df_covid.set_index('date', inplace=False)\r\n",
        "\r\n",
        "df1 = df.copy()\r\n",
        "\r\n",
        "for p in range(len(df_covid)):    \r\n",
        "    \r\n",
        "    X_covid,y_covid = dnn_2d(df1.values[-16:],15)\r\n",
        "    prediction = best_model.predict(X_covid)\r\n",
        "#     print(prediction[0][0])\r\n",
        "    df1.loc[df_covid.index[p]] = prediction[0][0]\r\n",
        "\r\n",
        "print(df1.tail(12))"
      ],
      "outputs": [],
      "execution_count": null,
      "metadata": {
        "collapsed": true,
        "jupyter": {
          "source_hidden": false,
          "outputs_hidden": false
        },
        "nteract": {
          "transient": {
            "deleting": false
          }
        }
      }
    }
  ],
  "metadata": {
    "kernel_info": {
      "name": "python3"
    },
    "kernelspec": {
      "name": "python3",
      "language": "python",
      "display_name": "Python 3"
    },
    "language_info": {
      "name": "python",
      "version": "3.6.9",
      "mimetype": "text/x-python",
      "codemirror_mode": {
        "name": "ipython",
        "version": 3
      },
      "pygments_lexer": "ipython3",
      "nbconvert_exporter": "python",
      "file_extension": ".py"
    },
    "nteract": {
      "version": "nteract-front-end@1.0.0"
    },
    "microsoft": {
      "host": {
        "AzureML": {
          "notebookHasBeenCompleted": true
        }
      }
    }
  },
  "nbformat": 4,
  "nbformat_minor": 2
}